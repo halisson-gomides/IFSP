{
  "nbformat": 4,
  "nbformat_minor": 0,
  "metadata": {
    "colab": {
      "name": "Aula08_lista_exercícios.ipynb",
      "provenance": [],
      "collapsed_sections": [
        "xLIwaSQeFJZV",
        "u6T97wqmgT6o",
        "VqZoCKe7pBeI",
        "3IJ_2KGPtVI7",
        "OCNGQpTWhKy3",
        "pieBEQlHrc6l"
      ]
    },
    "kernelspec": {
      "name": "python3",
      "display_name": "Python 3"
    },
    "language_info": {
      "name": "python"
    }
  },
  "cells": [
    {
      "cell_type": "markdown",
      "source": [
        "### MATEMÁTICA APLICADA À CIÊNCIA DE DADOS\n",
        "**Aluno**: Halisson Souza Gomides\n",
        "\n",
        "**Prontuário**: CP3016382\n",
        "\n",
        "Lista de exercício sobre matrizes: https://moodle.cmp.ifsp.edu.br/pluginfile.php/87852/mod_resource/content/1/Lista%206.pdf"
      ],
      "metadata": {
        "id": "a1DM_KfW-opb"
      }
    },
    {
      "cell_type": "code",
      "execution_count": 56,
      "metadata": {
        "id": "orvRKN9f-hfw"
      },
      "outputs": [],
      "source": [
        "import numpy as np"
      ]
    },
    {
      "cell_type": "markdown",
      "source": [
        "#### 1 – (FGV-2005) As meninas 1 = Adriana; 2 = Bruna e 3 = Carla falam muito ao telefone entre si. A matriz M mostra cada elemento aij representando o número de telefonemas que “i” deu para “j” no mês de setembro. . Quem mais telefonou e quem mais recebeu ligações?"
      ],
      "metadata": {
        "id": "xLIwaSQeFJZV"
      }
    },
    {
      "cell_type": "code",
      "source": [
        "M = np.matrix('0 13 10; 18 0 6; 9 12 0')\n",
        "print(M)"
      ],
      "metadata": {
        "colab": {
          "base_uri": "https://localhost:8080/"
        },
        "id": "CX1H1XsDFIga",
        "outputId": "ab4602df-31ff-432b-b75c-355d25f0d972"
      },
      "execution_count": null,
      "outputs": [
        {
          "output_type": "stream",
          "name": "stdout",
          "text": [
            "[[ 0 13 10]\n",
            " [18  0  6]\n",
            " [ 9 12  0]]\n"
          ]
        }
      ]
    },
    {
      "cell_type": "code",
      "source": [
        "meninas = np.array([\"Adriana\",\"Bruna\", \"Carla\"])\n",
        "meninas"
      ],
      "metadata": {
        "colab": {
          "base_uri": "https://localhost:8080/"
        },
        "id": "kgIW8-JtQYGy",
        "outputId": "3840f965-37e6-40e5-9db9-b10fb9cbb705"
      },
      "execution_count": null,
      "outputs": [
        {
          "output_type": "execute_result",
          "data": {
            "text/plain": [
              "array(['Adriana', 'Bruna', 'Carla'], dtype='<U7')"
            ]
          },
          "metadata": {},
          "execution_count": 96
        }
      ]
    },
    {
      "cell_type": "code",
      "source": [
        "# Quem mais telefonou\n",
        "\n",
        "idxmaxval = M.sum(axis=1).argmax() # obtem o indice do maior valor da soma ao longo das colunas de cada linha (\"i\")\n",
        "print(f'Quem mais telenonou foi: {meninas[idxmaxval]}')"
      ],
      "metadata": {
        "colab": {
          "base_uri": "https://localhost:8080/"
        },
        "id": "wf0Rl0l4X3fy",
        "outputId": "f2b8bf85-9591-449d-d61a-959965f79619"
      },
      "execution_count": null,
      "outputs": [
        {
          "output_type": "stream",
          "name": "stdout",
          "text": [
            "Quem mais telenonou foi: Bruna\n"
          ]
        }
      ]
    },
    {
      "cell_type": "code",
      "source": [
        "# Quem mais recebeu ligações\n",
        "\n",
        "idxmaxval = M.sum(axis=0).argmax() # obtem o indice do maior valor da soma ao longo das linhas de cada coluna (\"j\")\n",
        "print(f'Quem mais recebeu ligações foi: {meninas[idxmaxval]}')"
      ],
      "metadata": {
        "colab": {
          "base_uri": "https://localhost:8080/"
        },
        "id": "IQup9BHeIsH5",
        "outputId": "83526cec-6ae3-41a9-f2f4-0d36a7d94aeb"
      },
      "execution_count": null,
      "outputs": [
        {
          "output_type": "stream",
          "name": "stdout",
          "text": [
            "Quem mais recebeu ligações foi: Adriana\n"
          ]
        }
      ]
    },
    {
      "cell_type": "markdown",
      "source": [
        "#### 2 – Uma matriz A é do tipo 3 x 5, outra matriz B é do tipo 5 x 2 e a matriz C é do tipo m x 4. Qual o valor de m para que exista o produto (A.B).C? \n"
      ],
      "metadata": {
        "id": "u6T97wqmgT6o"
      }
    },
    {
      "cell_type": "markdown",
      "source": [
        "So é possével multiplicar duas matrizes se o numero de colunas\n",
        "da primeira matriz (A) for igual ao numero de linhas da \n",
        "segunda matriz (B). A matriz resultante tem o mesmo numero\n",
        "de linhas da matriz A e o mesmo numero de colunas da matriz B.\n",
        "\n",
        "Sabendo disso temos que `(A.B) = matriz do tipo 3x2`\n",
        "Assim sendo, para que exista o produto (A.B).C , `m` deve ser igual a `2`"
      ],
      "metadata": {
        "id": "8ntjwalSonCB"
      }
    },
    {
      "cell_type": "markdown",
      "source": [
        "#### 3 – Dadas as matrizes A e B, obtenha X tal que X.A = B."
      ],
      "metadata": {
        "id": "VqZoCKe7pBeI"
      }
    },
    {
      "cell_type": "code",
      "source": [
        "A = np.array([[3,5], [1,-3]])\n",
        "print(A)"
      ],
      "metadata": {
        "colab": {
          "base_uri": "https://localhost:8080/"
        },
        "id": "fV2v2B_XpJum",
        "outputId": "fbb3388c-53d1-4781-bcaa-931f44552467"
      },
      "execution_count": null,
      "outputs": [
        {
          "output_type": "stream",
          "name": "stdout",
          "text": [
            "[[ 3  5]\n",
            " [ 1 -3]]\n"
          ]
        }
      ]
    },
    {
      "cell_type": "code",
      "source": [
        "B = np.array([4,0])\n",
        "print(B)"
      ],
      "metadata": {
        "colab": {
          "base_uri": "https://localhost:8080/"
        },
        "id": "nwE17Yg4pBMv",
        "outputId": "59ee2aaf-6b48-4e8d-c438-136801c72c1d"
      },
      "execution_count": null,
      "outputs": [
        {
          "output_type": "stream",
          "name": "stdout",
          "text": [
            "[4 0]\n"
          ]
        }
      ]
    },
    {
      "cell_type": "code",
      "source": [
        "X = np.linalg.solve(A,B)\n",
        "print(X)"
      ],
      "metadata": {
        "colab": {
          "base_uri": "https://localhost:8080/"
        },
        "id": "Qb1a-f4KgWo-",
        "outputId": "872c7429-e38b-4632-e2cf-58cbfd5bdc88"
      },
      "execution_count": null,
      "outputs": [
        {
          "output_type": "stream",
          "name": "stdout",
          "text": [
            "[0.85714286 0.28571429]\n"
          ]
        }
      ]
    },
    {
      "cell_type": "code",
      "source": [
        "# Checando se a solução está correta\n",
        "np.allclose(np.dot(A, X), B)"
      ],
      "metadata": {
        "colab": {
          "base_uri": "https://localhost:8080/"
        },
        "id": "rrGcmaaMs01O",
        "outputId": "c5b370b4-794b-41c5-b39a-dd60e2f51a35"
      },
      "execution_count": null,
      "outputs": [
        {
          "output_type": "execute_result",
          "data": {
            "text/plain": [
              "True"
            ]
          },
          "metadata": {},
          "execution_count": 117
        }
      ]
    },
    {
      "cell_type": "markdown",
      "source": [
        "#### 4 - (FGV-2004) Uma matriz X possui elementos cuja soma vale 1. Se X.[[1,-1],[-1,1]].Xt = [1], onde Xt é a transposta de X, calcule o produto dos elementos de X."
      ],
      "metadata": {
        "id": "3IJ_2KGPtVI7"
      }
    },
    {
      "cell_type": "markdown",
      "source": [
        "Segue o desenvolvimento da resposta:\n",
        "\n",
        "![equation](https://latex.codecogs.com/svg.image?%5Ctextbf%7BX%7D%5Ccdot%20%5Cbegin%7Bbmatrix%7D1%20&%20-1%20%5C%5C-1%20&%201%20%5C%5C%5Cend%7Bbmatrix%7D%5Ccdot%20%5Ctextbf%7BX%7D%5E%7BT%7D=%5B1%5D%20)\n",
        "\n",
        "![equation](https://latex.codecogs.com/svg.image?%5Cbegin%7Bbmatrix%7Da%20&%20b%20%5C%5C%5Cend%7Bbmatrix%7D%5Ccdot%20%5Cbegin%7Bbmatrix%7D1%20&%20-1%20%5C%5C-1%20&%201%20%5C%5C%5Cend%7Bbmatrix%7D%5Ccdot%5Cbegin%7Bbmatrix%7Da%20%5C%5Cb%5Cend%7Bbmatrix%7D=%5Cbegin%7Bbmatrix%7D1%5Cend%7Bbmatrix%7D%20)\n",
        "\n",
        "![equation](https://latex.codecogs.com/svg.image?%5Cbegin%7Bbmatrix%7Da-b%20&%20-a&plus;b%20%5C%5C%5Cend%7Bbmatrix%7D%5Ccdot%5Cbegin%7Bbmatrix%7Da%20%5C%5Cb%5Cend%7Bbmatrix%7D=%5Cbegin%7Bbmatrix%7D1%5Cend%7Bbmatrix%7D%20)\n",
        "\n",
        "![equation](https://latex.codecogs.com/svg.image?%5Cbegin%7Bbmatrix%7Da%5E2-ab%20&%20-ab&plus;b%5E2%20%5C%5C%5Cend%7Bbmatrix%7D=%5Cbegin%7Bbmatrix%7D1%5Cend%7Bbmatrix%7D%20)\n",
        "\n",
        "![equation](https://latex.codecogs.com/svg.image?%5Cbegin%7Bpmatrix%7D%20a&%20-b%20%5C%5C%5Cend%7Bpmatrix%7D%5E%7B2%7D=1%20)\n",
        "\n",
        "![equation](https://latex.codecogs.com/svg.image?%5Cleft%5C%7B%5Cbegin%7Bmatrix%7Da&plus;b=1%20%5C%5Ca-b=1%20%5C%5Ca-b=-1%20%5C%5C%5Cend%7Bmatrix%7D%5Cright.%20)\n",
        "\n",
        "![equation](https://latex.codecogs.com/svg.image?%5CRightarrow%20%5Cleft%5C%7B%5Cbegin%7Bmatrix%7Da=1%20%5C%5Cb=0%5Cend%7Bmatrix%7D%5Cright.%5CRightarrow%20a%5Ccdot%20b=0%20)"
      ],
      "metadata": {
        "id": "v4Kb-VSThlGr"
      }
    },
    {
      "cell_type": "markdown",
      "source": [
        "#### 5 Determine x e y na igualdade:"
      ],
      "metadata": {
        "id": "OCNGQpTWhKy3"
      }
    },
    {
      "cell_type": "markdown",
      "source": [
        "x-1 = 4\n",
        "x = 5\n",
        "\n",
        "2y = -6\n",
        "y= -3"
      ],
      "metadata": {
        "id": "bKEGtY-krIbO"
      }
    },
    {
      "cell_type": "markdown",
      "source": [
        "#### 6 - Dadas as matrizes A e B, determine A + 2.BT\n"
      ],
      "metadata": {
        "id": "pieBEQlHrc6l"
      }
    },
    {
      "cell_type": "code",
      "source": [
        "A = np.array([[1,2,-3], [4,5,6]])\n",
        "print(A) "
      ],
      "metadata": {
        "colab": {
          "base_uri": "https://localhost:8080/"
        },
        "id": "-7Ik-p0ihN7a",
        "outputId": "3748d914-03c6-4596-b697-7fcdfcc55eb7"
      },
      "execution_count": null,
      "outputs": [
        {
          "output_type": "stream",
          "name": "stdout",
          "text": [
            "[[ 1  2 -3]\n",
            " [ 4  5  6]]\n"
          ]
        }
      ]
    },
    {
      "cell_type": "code",
      "source": [
        "B = np.array([[1,-2], [3,0], [4,-3]])\n",
        "print(B) "
      ],
      "metadata": {
        "colab": {
          "base_uri": "https://localhost:8080/"
        },
        "id": "Y-Qc8UfJrr1G",
        "outputId": "b58b0621-ea62-427a-c16c-9165dc784b90"
      },
      "execution_count": null,
      "outputs": [
        {
          "output_type": "stream",
          "name": "stdout",
          "text": [
            "[[ 1 -2]\n",
            " [ 3  0]\n",
            " [ 4 -3]]\n"
          ]
        }
      ]
    },
    {
      "cell_type": "code",
      "source": [
        "B.T"
      ],
      "metadata": {
        "colab": {
          "base_uri": "https://localhost:8080/"
        },
        "id": "T0ecOlQTs9b4",
        "outputId": "078bce41-692b-458c-a919-03cbad27c20e"
      },
      "execution_count": null,
      "outputs": [
        {
          "output_type": "execute_result",
          "data": {
            "text/plain": [
              "array([[ 1,  3,  4],\n",
              "       [-2,  0, -3]])"
            ]
          },
          "metadata": {},
          "execution_count": 9
        }
      ]
    },
    {
      "cell_type": "code",
      "source": [
        "resultado = A + np.multiply(2, B.T)\n",
        "resultado"
      ],
      "metadata": {
        "colab": {
          "base_uri": "https://localhost:8080/"
        },
        "id": "J1Pjf7Ber_JP",
        "outputId": "80a2f64f-d5f4-485b-dd7b-1ccd42004528"
      },
      "execution_count": null,
      "outputs": [
        {
          "output_type": "execute_result",
          "data": {
            "text/plain": [
              "array([[3, 8, 5],\n",
              "       [0, 5, 0]])"
            ]
          },
          "metadata": {},
          "execution_count": 10
        }
      ]
    },
    {
      "cell_type": "markdown",
      "source": [
        "#### 7- (PUC) Um batalhão do exército, resolveu codificar suas mensagens através da multiplicação de matrizes. Primeiramente, associa as letras do alfabeto aos números, segundo a correspondência abaixo considerada:\n",
        "A B C D E F G H I   J   L  M  N  O  P  Q  R  S  T  U  V  W  X  Y  Z\n",
        "\n",
        "1 2 3 4 5 6 7 8 9 10 11 12 13 14 15 16 17 18 19 20 21 22 23 24 25\n",
        "\n",
        "Desta forma, utilizando-se a mesma matriz-chave C, a decodificação da mensagem\n",
        "51 81 9 14 será compreendida pelo batalhão como a transmissão de palavra qual palavra? E a mensagem 27 49 48 79?"
      ],
      "metadata": {
        "id": "pFSy2uaBAnWZ"
      }
    },
    {
      "cell_type": "code",
      "source": [
        "C = np.matrix([[2,3], [1,2]])\n",
        "print(C) "
      ],
      "metadata": {
        "colab": {
          "base_uri": "https://localhost:8080/"
        },
        "id": "a4aE6Y5UtIsW",
        "outputId": "fe6f0efc-807b-4ec4-feec-fdb5e92a1ed3"
      },
      "execution_count": 19,
      "outputs": [
        {
          "output_type": "stream",
          "name": "stdout",
          "text": [
            "[[2 3]\n",
            " [1 2]]\n"
          ]
        }
      ]
    },
    {
      "cell_type": "markdown",
      "source": [
        "mensagem 51 81 9 14 :"
      ],
      "metadata": {
        "id": "4K5AZ1h2QFvU"
      }
    },
    {
      "cell_type": "code",
      "source": [
        "# mensagem codificada\n",
        "msg_cod = np.matrix([[51,81], [9,14]])\n",
        "print(msg_cod)"
      ],
      "metadata": {
        "colab": {
          "base_uri": "https://localhost:8080/"
        },
        "id": "WuFAWABBBBl1",
        "outputId": "51cda488-78af-462c-8017-d54dd960cd52"
      },
      "execution_count": 20,
      "outputs": [
        {
          "output_type": "stream",
          "name": "stdout",
          "text": [
            "[[51 81]\n",
            " [ 9 14]]\n"
          ]
        }
      ]
    },
    {
      "cell_type": "code",
      "source": [
        "# encontrando a matriz da mensagem decodificada (M), tal que C . M = msg_cod\n",
        "\n",
        "# Sabe-se que o produto de uma matriz C pela sua inversa C(inversa) = matriz identidade (I)\n",
        "# Assim, temos:\n",
        "# C.C(inverse).M = msg_cod.C(inverse)\n",
        "# I.M = msg_cod.C(inverse)\n",
        "\n",
        "# Sabe-se ainda que o produto de uma matriz B pela sua matriz identidade (I) é igual a ela mesma: B.I = B\n",
        "# Assim, temos I.M = M:\n",
        "# M = msg_cod.C(inverse)\n",
        "\n",
        "M = np.dot(msg_cod,C.I)\n",
        "print(M)"
      ],
      "metadata": {
        "colab": {
          "base_uri": "https://localhost:8080/"
        },
        "id": "RV1yyrs5Degv",
        "outputId": "c9074969-7c98-47d0-8b27-f6346a7581ec"
      },
      "execution_count": 21,
      "outputs": [
        {
          "output_type": "stream",
          "name": "stdout",
          "text": [
            "[[21.  9.]\n",
            " [ 4.  1.]]\n"
          ]
        }
      ]
    },
    {
      "cell_type": "code",
      "source": [
        "# conferindo a resposta\n",
        "np.dot(M,C)"
      ],
      "metadata": {
        "colab": {
          "base_uri": "https://localhost:8080/"
        },
        "id": "4cHSav7qMTGH",
        "outputId": "4f6c2850-4ce9-4d15-92ed-d0b73f8094e2"
      },
      "execution_count": 22,
      "outputs": [
        {
          "output_type": "execute_result",
          "data": {
            "text/plain": [
              "matrix([[51., 81.],\n",
              "        [ 9., 14.]])"
            ]
          },
          "metadata": {},
          "execution_count": 22
        }
      ]
    },
    {
      "cell_type": "code",
      "source": [
        "# texto decodificado\n",
        "def get_texto_decodificado(mensagem:np.matrix):\n",
        "  arr_alfabeto = 'A B C D E F G H I J L M N O P Q R S T U V W X Y Z'.split()\n",
        "  arr_texto = []\n",
        "\n",
        "  for idx in mensagem.flat:\n",
        "    arr_texto.append(arr_alfabeto[int(idx)-1])\n",
        "  \n",
        "  return ''.join(arr_texto)"
      ],
      "metadata": {
        "id": "okE_oG2rfWPR"
      },
      "execution_count": 44,
      "outputs": []
    },
    {
      "cell_type": "code",
      "source": [
        "# texto da mensagem decodificada\n",
        "get_texto_decodificado(M)"
      ],
      "metadata": {
        "colab": {
          "base_uri": "https://localhost:8080/",
          "height": 35
        },
        "id": "sgkuAS_kiL6V",
        "outputId": "393edc0f-8836-4322-d956-6153e8949022"
      },
      "execution_count": 45,
      "outputs": [
        {
          "output_type": "execute_result",
          "data": {
            "text/plain": [
              "'VIDA'"
            ],
            "application/vnd.google.colaboratory.intrinsic+json": {
              "type": "string"
            }
          },
          "metadata": {},
          "execution_count": 45
        }
      ]
    },
    {
      "cell_type": "markdown",
      "source": [
        " E a mensagem 27 49 48 79?"
      ],
      "metadata": {
        "id": "GcqskWaWQJ9j"
      }
    },
    {
      "cell_type": "code",
      "source": [
        "# mensagem codificada\n",
        "msg_cod = np.matrix([[27,49], [48,79]])\n",
        "print(msg_cod)"
      ],
      "metadata": {
        "colab": {
          "base_uri": "https://localhost:8080/"
        },
        "id": "uOZ00ytSQLyM",
        "outputId": "f4d7a331-9e58-4522-d0e5-241f2a2d51dd"
      },
      "execution_count": 46,
      "outputs": [
        {
          "output_type": "stream",
          "name": "stdout",
          "text": [
            "[[27 49]\n",
            " [48 79]]\n"
          ]
        }
      ]
    },
    {
      "cell_type": "code",
      "source": [
        "# mensagem decodificada\n",
        "M = np.dot(msg_cod,C.I)\n",
        "print(M)"
      ],
      "metadata": {
        "colab": {
          "base_uri": "https://localhost:8080/"
        },
        "id": "I0OSlY_sQTLc",
        "outputId": "057a63b8-6488-4f3d-a2ad-87b7de18f23a"
      },
      "execution_count": 47,
      "outputs": [
        {
          "output_type": "stream",
          "name": "stdout",
          "text": [
            "[[ 5. 17.]\n",
            " [17. 14.]]\n"
          ]
        }
      ]
    },
    {
      "cell_type": "code",
      "source": [
        "# conferindo a resposta\n",
        "np.dot(M,C)"
      ],
      "metadata": {
        "colab": {
          "base_uri": "https://localhost:8080/"
        },
        "id": "P7pb3KFFQcT8",
        "outputId": "43717cc5-d0ae-49b6-81e1-da6fa38a16db"
      },
      "execution_count": 49,
      "outputs": [
        {
          "output_type": "execute_result",
          "data": {
            "text/plain": [
              "matrix([[27., 49.],\n",
              "        [48., 79.]])"
            ]
          },
          "metadata": {},
          "execution_count": 49
        }
      ]
    },
    {
      "cell_type": "code",
      "source": [
        "# texto da mensagem decodificada\n",
        "get_texto_decodificado(M)"
      ],
      "metadata": {
        "colab": {
          "base_uri": "https://localhost:8080/",
          "height": 35
        },
        "id": "MVolXlpUU1mu",
        "outputId": "539e879e-ff37-45d8-b557-5d0b09350d99"
      },
      "execution_count": 50,
      "outputs": [
        {
          "output_type": "execute_result",
          "data": {
            "text/plain": [
              "'ERRO'"
            ],
            "application/vnd.google.colaboratory.intrinsic+json": {
              "type": "string"
            }
          },
          "metadata": {},
          "execution_count": 50
        }
      ]
    }
  ]
}
