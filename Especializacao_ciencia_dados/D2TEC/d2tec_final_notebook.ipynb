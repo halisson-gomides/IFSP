{
  "cells": [
    {
      "cell_type": "markdown",
      "id": "83cccaab-5da6-47e2-935c-e28a76edc9f6",
      "metadata": {
        "id": "83cccaab-5da6-47e2-935c-e28a76edc9f6"
      },
      "source": [
        "# <center>D2TEC - TECNOLOGIAS DE BIG DATA (2S2022)</center>\n",
        "\n",
        "## <center>PROJETO FINAL</center>\n",
        "\n",
        "### <br>Tema: Análise de dados utilizando AWS EMR.\n",
        "<br><br>\n",
        "\n",
        "> Aluno: Halisson Gomides (CP3016382)<br>\n",
        "> Profª Bianca<br>\n",
        "> *Campinas, 21 de novembro de 2022.*"
      ]
    },
    {
      "cell_type": "markdown",
      "id": "3e0c279e-fc4f-43a4-aa3a-33b00b0097cc",
      "metadata": {
        "id": "3e0c279e-fc4f-43a4-aa3a-33b00b0097cc"
      },
      "source": [
        "## 1. Introdução\n",
        "\n",
        "&nbsp;&nbsp;&nbsp;&nbsp;A análise de dados permite que as organizações tomem decisões, prevejam receitas, diagnostiquem problemas, controlem processos e construam produtos melhores. Manipular dados para alcançar tais objetivos nem sempre é simples, especialmente quando o volume de dados é grande, os recursos são poucos e os custos associados devem ser mínimos.\n",
        "\n",
        "&nbsp;&nbsp;&nbsp;&nbsp;Este projeto apresenta uma abordagem para processar e orquestrar com eficiência grandes conjunto de dados, a partir da aplicação de técnicas de engenharia de dados utilizando ferramentas disponíveis na plataforma de computação em nuvem da _Amazon Web Services_ (AWS), com foco no processamento distribuído (em cluster) e recursos de paralelismo na análise de dados.\n",
        "\n",
        "&nbsp;&nbsp;&nbsp;&nbsp;Para tanto, o projeto foi implementado utilizando a solução de Big Data da AWS denominada <u>**Amazon Elastic MapReduce (EMR)**</u>.\n",
        "\n",
        "&nbsp;&nbsp;&nbsp;&nbsp;O Amazon EMR é uma plataforma de cluster gerenciada que pode executar estruturas de big data, como Apache Hadoop e Apache Spark, na Amazon Web Services (AWS), que suporta o processamento de grande volume de dados em um ambiente de computação distribuída.\n",
        "\n"
      ]
    },
    {
      "cell_type": "markdown",
      "id": "c46f2696-49f2-495d-96f1-78675249f7cb",
      "metadata": {
        "id": "c46f2696-49f2-495d-96f1-78675249f7cb"
      },
      "source": [
        "## 2. Descrição do conjunto de dados (dataset)\n",
        "\n",
        "Este conjunto de dados (dataset) [Diamond Price](https://www.kaggle.com/datasets/shivam2503/diamonds) contém os preços e outros atributos de quase 54.000 diamantes. Existem 10 atributos no conjunto de dados, incluindo o preço.\n",
        "\n",
        "\n",
        "### 2.1 Informações dos atributos\n",
        "\n",
        "- **price** – preço em US dolar. Essa é a variável _target_ utilizada em trabalhos de aprendizado supervisionado de _machine learning_. As avaliações dos preços dos diamantes foram realizadas a cerca de 5 anos atrás. Variável numérica contínua.\n",
        "\n",
        "**Os 4 C´s dos Diamantes**:\n",
        "\n",
        "- **carat** – O quilate. É o peso físico do diamante medido em quilates métricos. Um quilate equivale a 1/5 grama e é subdividido em 100 pontos. O peso em quilates é a graduação mais objetiva dos 4 Cs. Variável numérica contínua.\n",
        "- **cut** - Qualidade do Corte (Fair, Good, Very Good, Premium, Ideal). Ao determinar a qualidade do corte, o classificador de diamantes avalia a habilidade do cortador na modelagem do diamante. Quanto mais preciso o diamante é cortado, mais cativante o diamante é para os olhos. Variável categórica ordinal.\n",
        "- **color** – Cor. A cor dos diamantes com qualidade de gema ocorre em vários tons. Na faixa de incolor a amarelo claro ou marrom claro. Os diamantes incolores são mais raros. Outras cores natuais (azul, vermelho, rosa, por exemplo) são conhecidas como \"fantasias\" e sua classificação de cores é diferente dos diamantes brancos incolores. Vai de J (pior) a D (melhor). Variável categórica ordinal.\n",
        "- **clarity** – Claridade. Os diamantes pode ter características internas conhecidas como inclusões ou características externas conhecidas como manchas. Diamantes sem inclusões ou manchas são raros; no entanto, a maioria das características só pode ser vista com ampliação. (I1 (pior), SI2, SI1, VS2, VS1, VVS2, VVS1, IF (melhor)). Variável categórica ordinal.\n",
        "\n",
        "**Dimensões**\n",
        "- **x** – Comprimento em (mm). Variável numérica contínua.\n",
        "- **y** – Largura em (mm). Variável numérica contínua.\n",
        "- **z** – Profundidade em (mm). Variável numérica contínua.\n",
        "- **depth** - % de profundidade total. A profundidade do diamante é a sua altura (em milímetros) medida do culet (ponta inferior) até a mesa (superfície plana, superior). Para chegar no percentual, esse valor é dividido pelo diâmetro médio da cintura. Variável numérica contínua.\n",
        "- **table** – Largura da mesa do topo do diamante em relação ao ponto mais largo. A mesa de um diamante refere-se à faceta plana do diamante vista quando a pedra está virada para cima. O principal objetivo de uma mesa de diamante é refratar os raios de luz que entram e permitir que os raios de luz refletidos de dentro do diamante encontrem o olho do observador. Variável numérica contínua.\n",
        "\n",
        "\n",
        "<img src=\"imgs/diamond_dims.png\"/>\n",
        "\n",
        "### 2.2 Atribuições do conjunto de dados (dataset)\n",
        "\n",
        "Esse conjunto de dados (dataset) foi obtido de:\n",
        "Shivam Agrawal (2017). Kaggle’s community (https://www.kaggle.com/)."
      ]
    },
    {
      "cell_type": "markdown",
      "id": "1352588a-222c-4566-8109-ebb4d00da2f6",
      "metadata": {
        "id": "1352588a-222c-4566-8109-ebb4d00da2f6"
      },
      "source": [
        "### 2.3 Amostra dos dados"
      ]
    },
    {
      "cell_type": "markdown",
      "id": "a62cd713-3156-42b8-94c4-46a3d1a3cc96",
      "metadata": {
        "execution": {
          "iopub.execute_input": "2022-11-16T19:17:28.825371Z",
          "iopub.status.busy": "2022-11-16T19:17:28.825133Z",
          "iopub.status.idle": "2022-11-16T19:17:28.886631Z",
          "shell.execute_reply": "2022-11-16T19:17:28.885965Z",
          "shell.execute_reply.started": "2022-11-16T19:17:28.825344Z"
        },
        "id": "a62cd713-3156-42b8-94c4-46a3d1a3cc96"
      },
      "source": [
        "| # | carat | cut     | color | clarity | depth | table | price | x    | y    | z    |\n",
        "|---|-------|---------|-------|---------|-------|-------|-------|------|------|------|\n",
        "| 1 | 0.23  | Ideal   | E     | SI2     | 61.5  | 55.0  | 326   | 3.95 | 3.98 | 2.43 |\n",
        "| 2 | 0.21  | Premium | E     | SI1     | 59.8  | 61.0  | 326   | 3.89 | 3.84 | 2.31 |\n",
        "| 3 | 0.23  | Good    | E     | VS1     | 56.9  | 65.0  | 327   | 4.05 | 4.07 | 2.31 |\n",
        "| 4 | 0.29  | Premium | I     | VS2     | 62.4  | 58.0  | 334   | 4.20 | 4.23 | 2.63 |\n",
        "| 5 | 0.31  | Good    | J     | SI2     | 63.3  | 58.0  | 335   | 4.34 | 4.35 | 2.75 |"
      ]
    },
    {
      "cell_type": "markdown",
      "id": "745e7a68-4800-49d5-92d1-86026ded9146",
      "metadata": {
        "id": "745e7a68-4800-49d5-92d1-86026ded9146"
      },
      "source": [
        "## 3. Diagrama de Arquitetura\n",
        "\n",
        "FERRAMENTAS E ORDEM DAS OPERAÇÕES NO AWS\n",
        "<img src=\"imgs/arquitetura-d2tec-final.png\"/>\n"
      ]
    },
    {
      "cell_type": "markdown",
      "id": "3b0058b5-5789-4b38-835b-ab102c2e61eb",
      "metadata": {
        "id": "3b0058b5-5789-4b38-835b-ab102c2e61eb"
      },
      "source": [
        "## 4. Infraestrutura"
      ]
    },
    {
      "cell_type": "markdown",
      "id": "2b012f42-8c96-43eb-9e06-228e54cd0fae",
      "metadata": {
        "id": "2b012f42-8c96-43eb-9e06-228e54cd0fae"
      },
      "source": [
        "#### 4.1.1 Etapas de preparação para o Amazon EMR:\n",
        "\n",
        "1.   Foi criado um Bucket no Amazon S3, denominado: `d2tec-final-bucket`\n",
        "2.   Foi feito upload de arquivo CSV contendo os dados crus `diamonds.csv` para o referido bucket do S3 (URI: `s3://d2tec-final-bucket/raw/`).\n",
        "3.  Foi criado um par de chaves do Amazon EC2 para o SSH.\n",
        "\n",
        "\n",
        "#### <br>4.1.2 Etapas de Criação e configuração de Cluster EMR:\n",
        "\n",
        "**1. Aplicações escolhidas para integrar o Cluster:**\n",
        "  - **Apache Hadoop**: O Apache Hadoop é uma estrutura de software Java de código aberto compatível com processamento de dados em massa por todo um cluster de instâncias. Ele também pode ser executado em uma única instância ou em milhares de instâncias. O Hadoop usa vários modelos de processamento, como MapReduce e Tez, para distribuir o processamento em várias instâncias e também usa um sistema de arquivos distribuído chamado HDFS para armazenar dados em várias instâncias. O Hadoop monitora a integridade das instâncias no cluster e pode fazer a recuperação de falha em um ou mais nós. Dessa maneira, o Hadoop proporciona o aumento do processamento e da capacidade de armazenamento, bem como a alta disponibilidade.\n",
        "  <img src=\"imgs/info_hadoop.png\"/>\n",
        "\n",
        "  - **Apache Hive**:   Hive é um data warehouse e um pacote de análises de código aberto executado além de um cluster do Hadoop. Os scripts do Hive usam uma linguagem semelhante a SQL chamada Hive QL (query language, linguagem de consulta) que abstrai modelos de programação e dá suporte a interações de data warehouse típicas. O Hive permite que você evite as complexidades de escrever trabalhos Tez com base em gráficos acíclicos direcionados (DAGs) ou MapReduce programas em uma linguagem de computador de nível inferior, como Java.\n",
        "<img src=\"imgs/info_hive.png\"/>\n",
        "\n",
        "  - **Apache Spark**: O Apache Spark é uma estrutura de processamento distribuída e um modelo de programação que ajuda você a fazer aprendizado de máquina, processamento de streams ou análises gráficas usando clusters do Amazon EMR. Semelhante ao Apache Hadoop, o Spark é um sistema de processamento distribuído de código-fonte aberto comumente utilizado para cargas de trabalho Big Data. No entanto, o Spark tem várias diferenças notáveis em relação ao Hadoop MapReduce. O Spark possui um mecanismo de execução otimizado para gráficos acíclicos dirigidos (DAG) e faz ativamente o cache dos dados na memória, o que pode aumentar o desempenho, especialmente para determinados algoritmos e consultas interativas.\n",
        "  <img src=\"imgs/info_spark.png\"/>\n",
        "  \n",
        "\n",
        "\n",
        "\n",
        "\n"
      ]
    },
    {
      "cell_type": "markdown",
      "id": "76891204-9a0f-4eae-b27a-18432a3defd8",
      "metadata": {
        "id": "76891204-9a0f-4eae-b27a-18432a3defd8"
      },
      "source": [
        "\n",
        "**2.   Configurações de Criação do Cluster EMR:**\n",
        "<br><br>\n",
        "  - **Aplicações:**\n",
        "  <img src=\"imgs/emr_software_config.png\"/>\n",
        "<br><br>\n",
        "  - <b>Hardware:</b>\n",
        "  <img src=\"imgs/emr_hardware_config.png\"/>\n",
        "<br><br>\n",
        "  - <b>Descrição do Hardware:</b>\n",
        "  <img src=\"imgs/emr_hardware_desc.png\"/>\n",
        "<br><br>\n",
        "  - <b>Configuração de Cluster Scaling e Hardware upgrade:</b>\n",
        "  <img src=\"imgs/emr_hardware_cluster_scaling.png\"/>\n",
        "<br><br>\n",
        "A escalabilidade gerenciada permite aumentar ou diminuir automaticamente o número de instâncias ou unidades no cluster com base na carga de trabalho. O EMR avalia continuamente as métricas de cluster para tomar decisões de dimensionamento que otimizam os clusters para custo e velocidade. Para as demonstrações pretendidas foram selecionadas o mínimo de 2 vCPUs e o máximo de 8 vCPUS.<br>\n",
        "  - <b>Bucket de Log:</b>\n",
        "  <img src=\"imgs/emr_hardware_log_config.png\"/>\n",
        "<br><br>\n",
        "  - <b>Setando o par de chaves EC2 de segurança:</b>\n",
        "  <img src=\"imgs/emr_security_config.png\"/>\n",
        "  "
      ]
    },
    {
      "cell_type": "markdown",
      "id": "7d3b1635-17f1-4ce2-bfaf-d3cf395366a3",
      "metadata": {
        "id": "7d3b1635-17f1-4ce2-bfaf-d3cf395366a3"
      },
      "source": [
        "### 4.2 Cluster configurado e ativo:\n",
        "\n",
        "  <img src=\"imgs/server_running.png\"/>"
      ]
    },
    {
      "cell_type": "markdown",
      "id": "e78b846b-004f-4ab1-ad26-726236df968c",
      "metadata": {
        "id": "e78b846b-004f-4ab1-ad26-726236df968c"
      },
      "source": [
        "### 4.3 Instância Jupyter Notebook:\n",
        "\n",
        "  <img src=\"imgs/notebook_running.png\"/>"
      ]
    },
    {
      "cell_type": "markdown",
      "id": "6958da7f-059e-4d54-910e-d15148f095bd",
      "metadata": {
        "id": "6958da7f-059e-4d54-910e-d15148f095bd"
      },
      "source": [
        "## 5. Setup"
      ]
    },
    {
      "cell_type": "markdown",
      "id": "2d9b468f-799d-472a-8190-c58d56df2c7f",
      "metadata": {
        "id": "2d9b468f-799d-472a-8190-c58d56df2c7f"
      },
      "source": [
        "### 5.1 Imports e preparação do ambiente"
      ]
    },
    {
      "cell_type": "code",
      "execution_count": null,
      "id": "6a429f5e-3c83-43de-8b57-0859b6d6802b",
      "metadata": {
        "execution": {
          "iopub.execute_input": "2022-11-16T18:55:49.017598Z",
          "iopub.status.busy": "2022-11-16T18:55:49.017370Z",
          "iopub.status.idle": "2022-11-16T18:56:43.340448Z",
          "shell.execute_reply": "2022-11-16T18:56:43.339485Z",
          "shell.execute_reply.started": "2022-11-16T18:55:49.017572Z"
        },
        "tags": [],
        "colab": {
          "referenced_widgets": [
            "be6616357d0143aba7d6be8ec777b0ac",
            ""
          ]
        },
        "id": "6a429f5e-3c83-43de-8b57-0859b6d6802b",
        "outputId": "c984270d-656d-46c1-c888-38454b3be1f2"
      },
      "outputs": [
        {
          "data": {
            "application/vnd.jupyter.widget-view+json": {
              "model_id": "be6616357d0143aba7d6be8ec777b0ac",
              "version_major": 2,
              "version_minor": 0
            },
            "text/plain": [
              "VBox()"
            ]
          },
          "metadata": {},
          "output_type": "display_data"
        },
        {
          "name": "stdout",
          "output_type": "stream",
          "text": [
            "Starting Spark application\n"
          ]
        },
        {
          "data": {
            "text/html": [
              "<table>\n",
              "<tr><th>ID</th><th>YARN Application ID</th><th>Kind</th><th>State</th><th>Spark UI</th><th>Driver log</th><th>User</th><th>Current session?</th></tr><tr><td>0</td><td>application_1668619538336_0001</td><td>pyspark</td><td>idle</td><td><a target=\"_blank\" href=\"http://ip-172-31-13-98.ec2.internal:20888/proxy/application_1668619538336_0001/\" class=\"emr-proxy-link\" emr-resource=\"j-3HZN5K8W77PE3\n",
              "\" application-id=\"application_1668619538336_0001\">Link</a></td><td><a target=\"_blank\" href=\"http://ip-172-31-6-164.ec2.internal:8042/node/containerlogs/container_1668619538336_0001_01_000001/livy\" >Link</a></td><td>None</td><td>✔</td></tr></table>"
            ],
            "text/plain": [
              "<IPython.core.display.HTML object>"
            ]
          },
          "metadata": {},
          "output_type": "display_data"
        },
        {
          "data": {
            "application/vnd.jupyter.widget-view+json": {
              "model_id": "",
              "version_major": 2,
              "version_minor": 0
            },
            "text/plain": [
              "FloatProgress(value=0.0, bar_style='info', description='Progress:', layout=Layout(height='25px', width='50%'),…"
            ]
          },
          "metadata": {},
          "output_type": "display_data"
        },
        {
          "name": "stdout",
          "output_type": "stream",
          "text": [
            "SparkSession available as 'spark'.\n"
          ]
        },
        {
          "data": {
            "application/vnd.jupyter.widget-view+json": {
              "model_id": "",
              "version_major": 2,
              "version_minor": 0
            },
            "text/plain": [
              "FloatProgress(value=0.0, bar_style='info', description='Progress:', layout=Layout(height='25px', width='50%'),…"
            ]
          },
          "metadata": {},
          "output_type": "display_data"
        }
      ],
      "source": [
        "from pyspark.sql import SparkSession\n",
        "from pyspark.sql.functions import *\n",
        "from pyspark.sql.types import *"
      ]
    },
    {
      "cell_type": "code",
      "execution_count": null,
      "id": "b8eae408-b494-4527-9a27-f3f99a108a74",
      "metadata": {
        "execution": {
          "iopub.execute_input": "2022-11-16T18:56:43.342591Z",
          "iopub.status.busy": "2022-11-16T18:56:43.342074Z",
          "iopub.status.idle": "2022-11-16T18:56:43.505920Z",
          "shell.execute_reply": "2022-11-16T18:56:43.504667Z",
          "shell.execute_reply.started": "2022-11-16T18:56:43.342553Z"
        },
        "tags": [],
        "colab": {
          "referenced_widgets": [
            "f95fa05ebd46448caca90554034e0b6a",
            ""
          ]
        },
        "id": "b8eae408-b494-4527-9a27-f3f99a108a74",
        "outputId": "3883d7e1-91df-4a1f-b6fa-d53d01508107"
      },
      "outputs": [
        {
          "data": {
            "application/vnd.jupyter.widget-view+json": {
              "model_id": "f95fa05ebd46448caca90554034e0b6a",
              "version_major": 2,
              "version_minor": 0
            },
            "text/plain": [
              "VBox()"
            ]
          },
          "metadata": {},
          "output_type": "display_data"
        },
        {
          "data": {
            "application/vnd.jupyter.widget-view+json": {
              "model_id": "",
              "version_major": 2,
              "version_minor": 0
            },
            "text/plain": [
              "FloatProgress(value=0.0, bar_style='info', description='Progress:', layout=Layout(height='25px', width='50%'),…"
            ]
          },
          "metadata": {},
          "output_type": "display_data"
        }
      ],
      "source": [
        "# Spark Session\n",
        "ss = SparkSession.builder.getOrCreate()"
      ]
    },
    {
      "cell_type": "code",
      "execution_count": null,
      "id": "c1f96f7e-5e8f-419b-8f78-46114567347d",
      "metadata": {
        "execution": {
          "iopub.execute_input": "2022-11-16T20:54:08.849890Z",
          "iopub.status.busy": "2022-11-16T20:54:08.849650Z",
          "iopub.status.idle": "2022-11-16T20:54:08.875394Z",
          "shell.execute_reply": "2022-11-16T20:54:08.874742Z",
          "shell.execute_reply.started": "2022-11-16T20:54:08.849864Z"
        },
        "id": "c1f96f7e-5e8f-419b-8f78-46114567347d",
        "outputId": "38dd4ebf-4e81-4831-ffda-613cf40adfe0"
      },
      "outputs": [
        {
          "data": {
            "text/html": [
              "Current session configs: <tt>{'proxyUser': 'assumed-role_voclabs_user2066452_Halisson_Souza_Gomides', 'conf': {'spark.pyspark.python': 'python3', 'spark.pyspark.virtualenv.enabled': 'true', 'spark.pyspark.virtualenv.type': 'native', 'spark.pyspark.virtualenv.bin.path': '/usr/bin/virtualenv'}, 'kind': 'pyspark'}</tt><br>"
            ],
            "text/plain": [
              "<IPython.core.display.HTML object>"
            ]
          },
          "metadata": {},
          "output_type": "display_data"
        },
        {
          "data": {
            "text/html": [
              "<table>\n",
              "<tr><th>ID</th><th>YARN Application ID</th><th>Kind</th><th>State</th><th>Spark UI</th><th>Driver log</th><th>User</th><th>Current session?</th></tr><tr><td>0</td><td>application_1668619538336_0001</td><td>pyspark</td><td>idle</td><td><a target=\"_blank\" href=\"http://ip-172-31-13-98.ec2.internal:20888/proxy/application_1668619538336_0001/\" class=\"emr-proxy-link\" emr-resource=\"j-3HZN5K8W77PE3\n",
              "\" application-id=\"application_1668619538336_0001\">Link</a></td><td><a target=\"_blank\" href=\"http://ip-172-31-6-164.ec2.internal:8042/node/containerlogs/container_1668619538336_0001_01_000001/livy\" >Link</a></td><td>None</td><td>✔</td></tr></table>"
            ],
            "text/plain": [
              "<IPython.core.display.HTML object>"
            ]
          },
          "metadata": {},
          "output_type": "display_data"
        }
      ],
      "source": [
        "%%info"
      ]
    },
    {
      "cell_type": "code",
      "execution_count": null,
      "id": "b6938980-5978-433c-af92-fe18e4fe3a5b",
      "metadata": {
        "execution": {
          "iopub.execute_input": "2022-11-16T20:54:40.639100Z",
          "iopub.status.busy": "2022-11-16T20:54:40.638762Z",
          "iopub.status.idle": "2022-11-16T20:54:41.433607Z",
          "shell.execute_reply": "2022-11-16T20:54:41.432782Z",
          "shell.execute_reply.started": "2022-11-16T20:54:40.639059Z"
        },
        "colab": {
          "referenced_widgets": [
            "c9797af8e69b4e79b16fbeadad5de1d4",
            ""
          ]
        },
        "id": "b6938980-5978-433c-af92-fe18e4fe3a5b",
        "outputId": "6c7916e6-85d6-483d-bb4a-44624cd8dd5b"
      },
      "outputs": [
        {
          "data": {
            "application/vnd.jupyter.widget-view+json": {
              "model_id": "c9797af8e69b4e79b16fbeadad5de1d4",
              "version_major": 2,
              "version_minor": 0
            },
            "text/plain": [
              "VBox()"
            ]
          },
          "metadata": {},
          "output_type": "display_data"
        },
        {
          "data": {
            "application/vnd.jupyter.widget-view+json": {
              "model_id": "",
              "version_major": 2,
              "version_minor": 0
            },
            "text/plain": [
              "FloatProgress(value=0.0, bar_style='info', description='Progress:', layout=Layout(height='25px', width='50%'),…"
            ]
          },
          "metadata": {},
          "output_type": "display_data"
        },
        {
          "name": "stdout",
          "output_type": "stream",
          "text": [
            "Package                    Version\n",
            "-------------------------- ----------\n",
            "aws-cfn-bootstrap          2.0\n",
            "beautifulsoup4             4.9.3\n",
            "boto                       2.49.0\n",
            "click                      8.1.3\n",
            "docutils                   0.14\n",
            "jmespath                   1.0.1\n",
            "joblib                     1.1.0\n",
            "lockfile                   0.11.0\n",
            "lxml                       4.9.1\n",
            "mysqlclient                1.4.2\n",
            "nltk                       3.7\n",
            "nose                       1.3.4\n",
            "numpy                      1.20.0\n",
            "pip                        20.2.2\n",
            "py-dateutil                2.2\n",
            "pystache                   0.5.4\n",
            "python-daemon              2.2.3\n",
            "python37-sagemaker-pyspark 1.4.2\n",
            "pytz                       2022.2.1\n",
            "PyYAML                     5.4.1\n",
            "regex                      2021.11.10\n",
            "setuptools                 28.8.0\n",
            "simplejson                 3.2.0\n",
            "six                        1.13.0\n",
            "tqdm                       4.64.0\n",
            "wheel                      0.29.0\n",
            "windmill                   1.6\n",
            "\n",
            "WARNING: The directory '/home/.cache/pip' or its parent directory is not owned or is not writable by the current user. The cache has been disabled. Check the permissions and owner of that directory. If executing pip with sudo, you may want sudo's -H flag."
          ]
        }
      ],
      "source": [
        "# Visualizando os pacotes pré-instalados no ambiente\n",
        "sc.list_packages()"
      ]
    },
    {
      "cell_type": "code",
      "execution_count": null,
      "id": "18c9cbf9-b1c8-4ac7-8ba6-1496ea6c89ea",
      "metadata": {
        "tags": [],
        "id": "18c9cbf9-b1c8-4ac7-8ba6-1496ea6c89ea"
      },
      "outputs": [],
      "source": [
        "# Instalando pacotes \n",
        "sc.install_pypi_package(\"pandas==1.3.5\") #Install pandas version 1.3.5 \n",
        "sc.install_pypi_package(\"matplotlib\", \"https://pypi.org/simple\") #Install matplotlib from given PyPI repository"
      ]
    },
    {
      "cell_type": "code",
      "execution_count": null,
      "id": "af49ba31-b04e-48d4-add7-976c7d7a0d6c",
      "metadata": {
        "execution": {
          "iopub.execute_input": "2022-11-16T22:06:02.553562Z",
          "iopub.status.busy": "2022-11-16T22:06:02.553334Z",
          "iopub.status.idle": "2022-11-16T22:06:02.623255Z",
          "shell.execute_reply": "2022-11-16T22:06:02.622580Z",
          "shell.execute_reply.started": "2022-11-16T22:06:02.553538Z"
        },
        "tags": [],
        "colab": {
          "referenced_widgets": [
            "c33c1d2624a94b52a12ae9ccea695b37",
            ""
          ]
        },
        "id": "af49ba31-b04e-48d4-add7-976c7d7a0d6c",
        "outputId": "52c6aa67-f510-40e0-f00b-6171fc84f690"
      },
      "outputs": [
        {
          "data": {
            "application/vnd.jupyter.widget-view+json": {
              "model_id": "c33c1d2624a94b52a12ae9ccea695b37",
              "version_major": 2,
              "version_minor": 0
            },
            "text/plain": [
              "VBox()"
            ]
          },
          "metadata": {},
          "output_type": "display_data"
        },
        {
          "data": {
            "application/vnd.jupyter.widget-view+json": {
              "model_id": "",
              "version_major": 2,
              "version_minor": 0
            },
            "text/plain": [
              "FloatProgress(value=0.0, bar_style='info', description='Progress:', layout=Layout(height='25px', width='50%'),…"
            ]
          },
          "metadata": {},
          "output_type": "display_data"
        }
      ],
      "source": [
        "import matplotlib.pyplot as plt\n",
        "import numpy as np"
      ]
    },
    {
      "cell_type": "markdown",
      "id": "c24ffcbb-ff01-433d-a39b-e52d6ad530ca",
      "metadata": {
        "id": "c24ffcbb-ff01-433d-a39b-e52d6ad530ca"
      },
      "source": [
        "### 5.2 Preparação do dataset"
      ]
    },
    {
      "cell_type": "code",
      "execution_count": null,
      "id": "1dd7b00a-a691-40bc-8510-e6ddccca2f59",
      "metadata": {
        "execution": {
          "iopub.execute_input": "2022-11-16T19:03:02.897952Z",
          "iopub.status.busy": "2022-11-16T19:03:02.897721Z",
          "iopub.status.idle": "2022-11-16T19:03:02.969239Z",
          "shell.execute_reply": "2022-11-16T19:03:02.968402Z",
          "shell.execute_reply.started": "2022-11-16T19:03:02.897927Z"
        },
        "tags": [],
        "colab": {
          "referenced_widgets": [
            "03427cb9f6e546ee8e243e27686da7d5",
            ""
          ]
        },
        "id": "1dd7b00a-a691-40bc-8510-e6ddccca2f59",
        "outputId": "93ad7e67-7cde-48b7-8df0-c4725f761686"
      },
      "outputs": [
        {
          "data": {
            "application/vnd.jupyter.widget-view+json": {
              "model_id": "03427cb9f6e546ee8e243e27686da7d5",
              "version_major": 2,
              "version_minor": 0
            },
            "text/plain": [
              "VBox()"
            ]
          },
          "metadata": {},
          "output_type": "display_data"
        },
        {
          "data": {
            "application/vnd.jupyter.widget-view+json": {
              "model_id": "",
              "version_major": 2,
              "version_minor": 0
            },
            "text/plain": [
              "FloatProgress(value=0.0, bar_style='info', description='Progress:', layout=Layout(height='25px', width='50%'),…"
            ]
          },
          "metadata": {},
          "output_type": "display_data"
        }
      ],
      "source": [
        "schema = StructType(\n",
        "    [\n",
        "        StructField('#', IntegerType(), True),\n",
        "        StructField('carat', FloatType(), True),\n",
        "        StructField('cut', StringType(), True),\n",
        "        StructField('color', StringType(), True),\n",
        "        StructField('clarity', StringType(), True),\n",
        "        StructField('depth', FloatType(), True),\n",
        "        StructField('table', FloatType(), True),\n",
        "        StructField('price', FloatType(), True),\n",
        "        StructField('x', FloatType(), True),\n",
        "        StructField('y', FloatType(), True),\n",
        "        StructField('z', FloatType(), True)\n",
        "    ]\n",
        ")"
      ]
    },
    {
      "cell_type": "code",
      "execution_count": null,
      "id": "d181af7e-9360-435a-80e2-7e93727d509e",
      "metadata": {
        "execution": {
          "iopub.execute_input": "2022-11-16T19:51:53.235101Z",
          "iopub.status.busy": "2022-11-16T19:51:53.234869Z",
          "iopub.status.idle": "2022-11-16T19:51:53.507091Z",
          "shell.execute_reply": "2022-11-16T19:51:53.506387Z",
          "shell.execute_reply.started": "2022-11-16T19:51:53.235076Z"
        },
        "tags": [],
        "colab": {
          "referenced_widgets": [
            "50f170a323fc4a10bf66a4a8a5f4d3f1",
            ""
          ]
        },
        "id": "d181af7e-9360-435a-80e2-7e93727d509e",
        "outputId": "51a4a37f-f45d-45bb-f549-395f35c66439"
      },
      "outputs": [
        {
          "data": {
            "application/vnd.jupyter.widget-view+json": {
              "model_id": "50f170a323fc4a10bf66a4a8a5f4d3f1",
              "version_major": 2,
              "version_minor": 0
            },
            "text/plain": [
              "VBox()"
            ]
          },
          "metadata": {},
          "output_type": "display_data"
        },
        {
          "data": {
            "application/vnd.jupyter.widget-view+json": {
              "model_id": "",
              "version_major": 2,
              "version_minor": 0
            },
            "text/plain": [
              "FloatProgress(value=0.0, bar_style='info', description='Progress:', layout=Layout(height='25px', width='50%'),…"
            ]
          },
          "metadata": {},
          "output_type": "display_data"
        }
      ],
      "source": [
        "df_raw = spark.read.schema(schema).option('header','true').csv(r\"s3n://d2tec-final-bucket/raw/diamonds.csv\")"
      ]
    },
    {
      "cell_type": "code",
      "execution_count": null,
      "id": "2462596d-f644-4083-b816-68194751224d",
      "metadata": {
        "execution": {
          "iopub.execute_input": "2022-11-16T19:51:58.402389Z",
          "iopub.status.busy": "2022-11-16T19:51:58.402158Z",
          "iopub.status.idle": "2022-11-16T19:51:59.176384Z",
          "shell.execute_reply": "2022-11-16T19:51:59.175502Z",
          "shell.execute_reply.started": "2022-11-16T19:51:58.402364Z"
        },
        "tags": [],
        "colab": {
          "referenced_widgets": [
            "923256661dd24963b9dd6c19e33331e6",
            ""
          ]
        },
        "id": "2462596d-f644-4083-b816-68194751224d",
        "outputId": "1dbb3942-1770-4c3f-f00b-5d7a7a2dfb8e"
      },
      "outputs": [
        {
          "data": {
            "application/vnd.jupyter.widget-view+json": {
              "model_id": "923256661dd24963b9dd6c19e33331e6",
              "version_major": 2,
              "version_minor": 0
            },
            "text/plain": [
              "VBox()"
            ]
          },
          "metadata": {},
          "output_type": "display_data"
        },
        {
          "data": {
            "application/vnd.jupyter.widget-view+json": {
              "model_id": "",
              "version_major": 2,
              "version_minor": 0
            },
            "text/plain": [
              "FloatProgress(value=0.0, bar_style='info', description='Progress:', layout=Layout(height='25px', width='50%'),…"
            ]
          },
          "metadata": {},
          "output_type": "display_data"
        },
        {
          "name": "stdout",
          "output_type": "stream",
          "text": [
            "+---+-----+-------+-----+-------+-----+-----+-----+----+----+----+\n",
            "|  #|carat|    cut|color|clarity|depth|table|price|   x|   y|   z|\n",
            "+---+-----+-------+-----+-------+-----+-----+-----+----+----+----+\n",
            "|  1| 0.23|  Ideal|    E|    SI2| 61.5| 55.0|326.0|3.95|3.98|2.43|\n",
            "|  2| 0.21|Premium|    E|    SI1| 59.8| 61.0|326.0|3.89|3.84|2.31|\n",
            "|  3| 0.23|   Good|    E|    VS1| 56.9| 65.0|327.0|4.05|4.07|2.31|\n",
            "|  4| 0.29|Premium|    I|    VS2| 62.4| 58.0|334.0| 4.2|4.23|2.63|\n",
            "|  5| 0.31|   Good|    J|    SI2| 63.3| 58.0|335.0|4.34|4.35|2.75|\n",
            "+---+-----+-------+-----+-------+-----+-----+-----+----+----+----+\n",
            "only showing top 5 rows"
          ]
        }
      ],
      "source": [
        "df_raw.show(5)"
      ]
    },
    {
      "cell_type": "code",
      "execution_count": null,
      "id": "8e457ef0-ab0a-4551-8ec3-1ca965cd9bf9",
      "metadata": {
        "execution": {
          "iopub.execute_input": "2022-11-16T19:52:03.209443Z",
          "iopub.status.busy": "2022-11-16T19:52:03.209192Z",
          "iopub.status.idle": "2022-11-16T19:52:03.278684Z",
          "shell.execute_reply": "2022-11-16T19:52:03.278033Z",
          "shell.execute_reply.started": "2022-11-16T19:52:03.209416Z"
        },
        "tags": [],
        "colab": {
          "referenced_widgets": [
            "8203e8f9ea244963be93265b0f50e702",
            ""
          ]
        },
        "id": "8e457ef0-ab0a-4551-8ec3-1ca965cd9bf9",
        "outputId": "696edd3d-158f-4e2e-c3aa-02f1e573c2dc"
      },
      "outputs": [
        {
          "data": {
            "application/vnd.jupyter.widget-view+json": {
              "model_id": "8203e8f9ea244963be93265b0f50e702",
              "version_major": 2,
              "version_minor": 0
            },
            "text/plain": [
              "VBox()"
            ]
          },
          "metadata": {},
          "output_type": "display_data"
        },
        {
          "data": {
            "application/vnd.jupyter.widget-view+json": {
              "model_id": "",
              "version_major": 2,
              "version_minor": 0
            },
            "text/plain": [
              "FloatProgress(value=0.0, bar_style='info', description='Progress:', layout=Layout(height='25px', width='50%'),…"
            ]
          },
          "metadata": {},
          "output_type": "display_data"
        },
        {
          "name": "stdout",
          "output_type": "stream",
          "text": [
            "root\n",
            " |-- #: integer (nullable = true)\n",
            " |-- carat: float (nullable = true)\n",
            " |-- cut: string (nullable = true)\n",
            " |-- color: string (nullable = true)\n",
            " |-- clarity: string (nullable = true)\n",
            " |-- depth: float (nullable = true)\n",
            " |-- table: float (nullable = true)\n",
            " |-- price: float (nullable = true)\n",
            " |-- x: float (nullable = true)\n",
            " |-- y: float (nullable = true)\n",
            " |-- z: float (nullable = true)"
          ]
        }
      ],
      "source": [
        "df_raw.printSchema()"
      ]
    },
    {
      "cell_type": "code",
      "execution_count": null,
      "id": "d39aeb2c-604a-4fe5-81b2-d7a4dccc6aed",
      "metadata": {
        "execution": {
          "iopub.execute_input": "2022-11-16T20:10:49.732010Z",
          "iopub.status.busy": "2022-11-16T20:10:49.731741Z",
          "iopub.status.idle": "2022-11-16T20:10:59.052908Z",
          "shell.execute_reply": "2022-11-16T20:10:59.052223Z",
          "shell.execute_reply.started": "2022-11-16T20:10:49.731984Z"
        },
        "tags": [],
        "colab": {
          "referenced_widgets": [
            "d2a5c7bba64e4baab53e20f57435f2df",
            ""
          ]
        },
        "id": "d39aeb2c-604a-4fe5-81b2-d7a4dccc6aed",
        "outputId": "e117f3fd-5022-44a3-8379-245bc4aa43b9"
      },
      "outputs": [
        {
          "data": {
            "application/vnd.jupyter.widget-view+json": {
              "model_id": "d2a5c7bba64e4baab53e20f57435f2df",
              "version_major": 2,
              "version_minor": 0
            },
            "text/plain": [
              "VBox()"
            ]
          },
          "metadata": {},
          "output_type": "display_data"
        },
        {
          "data": {
            "application/vnd.jupyter.widget-view+json": {
              "model_id": "",
              "version_major": 2,
              "version_minor": 0
            },
            "text/plain": [
              "FloatProgress(value=0.0, bar_style='info', description='Progress:', layout=Layout(height='25px', width='50%'),…"
            ]
          },
          "metadata": {},
          "output_type": "display_data"
        },
        {
          "name": "stdout",
          "output_type": "stream",
          "text": [
            "(53940, 11)"
          ]
        }
      ],
      "source": [
        "# Shape dos dados\n",
        "print((df_raw.count(), len(df_raw.columns)))"
      ]
    },
    {
      "cell_type": "markdown",
      "id": "b62c9312-a384-4eb1-8c31-71d99dc79d48",
      "metadata": {
        "id": "b62c9312-a384-4eb1-8c31-71d99dc79d48"
      },
      "source": [
        "### 5.3 Limpeza e Processamento dos dados"
      ]
    },
    {
      "cell_type": "markdown",
      "id": "36938bfb-d3a6-4c63-986f-fc5fbc65b24e",
      "metadata": {
        "id": "36938bfb-d3a6-4c63-986f-fc5fbc65b24e"
      },
      "source": [
        "A primeira coluna é um índice (\"#\") e, portanto, vamos removê-la."
      ]
    },
    {
      "cell_type": "code",
      "execution_count": null,
      "id": "250dafdf-ee84-4cd2-89b2-f563e10eb829",
      "metadata": {
        "execution": {
          "iopub.execute_input": "2022-11-16T19:52:17.416632Z",
          "iopub.status.busy": "2022-11-16T19:52:17.416407Z",
          "iopub.status.idle": "2022-11-16T19:52:17.480998Z",
          "shell.execute_reply": "2022-11-16T19:52:17.480208Z",
          "shell.execute_reply.started": "2022-11-16T19:52:17.416607Z"
        },
        "tags": [],
        "colab": {
          "referenced_widgets": [
            "748bfe06e3be432baf753677a4e03b85",
            ""
          ]
        },
        "id": "250dafdf-ee84-4cd2-89b2-f563e10eb829",
        "outputId": "e9d396f9-1051-4242-bb90-41b4e3d24dcc"
      },
      "outputs": [
        {
          "data": {
            "application/vnd.jupyter.widget-view+json": {
              "model_id": "748bfe06e3be432baf753677a4e03b85",
              "version_major": 2,
              "version_minor": 0
            },
            "text/plain": [
              "VBox()"
            ]
          },
          "metadata": {},
          "output_type": "display_data"
        },
        {
          "data": {
            "application/vnd.jupyter.widget-view+json": {
              "model_id": "",
              "version_major": 2,
              "version_minor": 0
            },
            "text/plain": [
              "FloatProgress(value=0.0, bar_style='info', description='Progress:', layout=Layout(height='25px', width='50%'),…"
            ]
          },
          "metadata": {},
          "output_type": "display_data"
        }
      ],
      "source": [
        "df = df_raw.drop('#')"
      ]
    },
    {
      "cell_type": "code",
      "execution_count": null,
      "id": "19514b60-14d0-4510-9524-70edc780ff24",
      "metadata": {
        "execution": {
          "iopub.execute_input": "2022-11-16T19:52:23.067461Z",
          "iopub.status.busy": "2022-11-16T19:52:23.067202Z",
          "iopub.status.idle": "2022-11-16T19:52:28.374431Z",
          "shell.execute_reply": "2022-11-16T19:52:28.373683Z",
          "shell.execute_reply.started": "2022-11-16T19:52:23.067434Z"
        },
        "tags": [],
        "colab": {
          "referenced_widgets": [
            "cf66340518bd491fabf9fcf2873c3220",
            ""
          ]
        },
        "id": "19514b60-14d0-4510-9524-70edc780ff24",
        "outputId": "c9cabd15-16d2-412f-b680-96488e32cacd"
      },
      "outputs": [
        {
          "data": {
            "application/vnd.jupyter.widget-view+json": {
              "model_id": "cf66340518bd491fabf9fcf2873c3220",
              "version_major": 2,
              "version_minor": 0
            },
            "text/plain": [
              "VBox()"
            ]
          },
          "metadata": {},
          "output_type": "display_data"
        },
        {
          "data": {
            "application/vnd.jupyter.widget-view+json": {
              "model_id": "",
              "version_major": 2,
              "version_minor": 0
            },
            "text/plain": [
              "FloatProgress(value=0.0, bar_style='info', description='Progress:', layout=Layout(height='25px', width='50%'),…"
            ]
          },
          "metadata": {},
          "output_type": "display_data"
        },
        {
          "name": "stdout",
          "output_type": "stream",
          "text": [
            "+-------+------------------+---------+-----+-------+------------------+------------------+-----------------+------------------+------------------+------------------+\n",
            "|summary|             carat|      cut|color|clarity|             depth|             table|            price|                 x|                 y|                 z|\n",
            "+-------+------------------+---------+-----+-------+------------------+------------------+-----------------+------------------+------------------+------------------+\n",
            "|  count|             53940|    53940|53940|  53940|             53940|             53940|            53940|             53940|             53940|             53940|\n",
            "|   mean|0.7979397459442544|     null| null|   null|61.749404890324215|57.457183908399585|3932.799721913237| 5.731157212872659| 5.734525955793015|3.5387337920972493|\n",
            "| stddev| 0.474011242836904|     null| null|   null| 1.432621320665403|2.2344905638396657|3989.439738146397|1.1217607437465076|1.1421346736743894| 0.705698843275196|\n",
            "|    min|               0.2|     Fair|    D|     I1|              43.0|              43.0|            326.0|               0.0|               0.0|               0.0|\n",
            "|    max|              5.01|Very Good|    J|   VVS2|              79.0|              95.0|          18823.0|             10.74|              58.9|              31.8|\n",
            "+-------+------------------+---------+-----+-------+------------------+------------------+-----------------+------------------+------------------+------------------+"
          ]
        }
      ],
      "source": [
        "# Estatísticas básicas do conjunto de dados\n",
        "df.select(df.columns).describe().show()"
      ]
    },
    {
      "cell_type": "markdown",
      "id": "24fd1fb3-25fa-4b8c-b14c-617b49a59255",
      "metadata": {
        "id": "24fd1fb3-25fa-4b8c-b14c-617b49a59255"
      },
      "source": [
        "**Pontos a observar:**\n",
        "\n",
        "O valor mínimo de \"x\", \"y\", \"z\" é zero, isso indica que há valores incorretos nos dados que representam diamantes adimensionais ou bidimensionais. Portanto, precisamos filtrá-los, pois são pontos de dados claramente defeituosos."
      ]
    },
    {
      "cell_type": "code",
      "execution_count": null,
      "id": "dd518e7d-a130-472e-939c-42abddd219bd",
      "metadata": {
        "execution": {
          "iopub.execute_input": "2022-11-16T20:11:25.222944Z",
          "iopub.status.busy": "2022-11-16T20:11:25.222716Z",
          "iopub.status.idle": "2022-11-16T20:11:25.487708Z",
          "shell.execute_reply": "2022-11-16T20:11:25.487005Z",
          "shell.execute_reply.started": "2022-11-16T20:11:25.222921Z"
        },
        "tags": [],
        "colab": {
          "referenced_widgets": [
            "5f17ef2ec9324075aa11813c3cd43185",
            ""
          ]
        },
        "id": "dd518e7d-a130-472e-939c-42abddd219bd",
        "outputId": "0968e975-7ca5-40f3-ce8b-8d5db1b90485"
      },
      "outputs": [
        {
          "data": {
            "application/vnd.jupyter.widget-view+json": {
              "model_id": "5f17ef2ec9324075aa11813c3cd43185",
              "version_major": 2,
              "version_minor": 0
            },
            "text/plain": [
              "VBox()"
            ]
          },
          "metadata": {},
          "output_type": "display_data"
        },
        {
          "data": {
            "application/vnd.jupyter.widget-view+json": {
              "model_id": "",
              "version_major": 2,
              "version_minor": 0
            },
            "text/plain": [
              "FloatProgress(value=0.0, bar_style='info', description='Progress:', layout=Layout(height='25px', width='50%'),…"
            ]
          },
          "metadata": {},
          "output_type": "display_data"
        }
      ],
      "source": [
        "df = df.filter(df.x!=0)\n",
        "df = df.filter(df.y!=0)\n",
        "df = df.filter(df.z!=0)"
      ]
    },
    {
      "cell_type": "code",
      "execution_count": null,
      "id": "82b8ba0b-0303-457a-b09d-b23afa044056",
      "metadata": {
        "execution": {
          "iopub.execute_input": "2022-11-16T20:11:34.742574Z",
          "iopub.status.busy": "2022-11-16T20:11:34.742350Z",
          "iopub.status.idle": "2022-11-16T20:11:36.016508Z",
          "shell.execute_reply": "2022-11-16T20:11:36.015730Z",
          "shell.execute_reply.started": "2022-11-16T20:11:34.742549Z"
        },
        "colab": {
          "referenced_widgets": [
            "d6f70c4711464c3a983752cb25184751",
            ""
          ]
        },
        "id": "82b8ba0b-0303-457a-b09d-b23afa044056",
        "outputId": "8fd9fcf6-d462-4cc4-e6ca-033152436606"
      },
      "outputs": [
        {
          "data": {
            "application/vnd.jupyter.widget-view+json": {
              "model_id": "d6f70c4711464c3a983752cb25184751",
              "version_major": 2,
              "version_minor": 0
            },
            "text/plain": [
              "VBox()"
            ]
          },
          "metadata": {},
          "output_type": "display_data"
        },
        {
          "data": {
            "application/vnd.jupyter.widget-view+json": {
              "model_id": "",
              "version_major": 2,
              "version_minor": 0
            },
            "text/plain": [
              "FloatProgress(value=0.0, bar_style='info', description='Progress:', layout=Layout(height='25px', width='50%'),…"
            ]
          },
          "metadata": {},
          "output_type": "display_data"
        },
        {
          "name": "stdout",
          "output_type": "stream",
          "text": [
            "(53920, 10)"
          ]
        }
      ],
      "source": [
        "# Shape dos dados\n",
        "print((df.count(), len(df.columns)))"
      ]
    },
    {
      "cell_type": "markdown",
      "id": "2ced30c5-616d-49a0-8be2-558da7abe6ef",
      "metadata": {
        "id": "2ced30c5-616d-49a0-8be2-558da7abe6ef"
      },
      "source": [
        "Perdemos 20 registros de dados excluindo os diamantes adimensionais (2-D ou 1-D)."
      ]
    },
    {
      "cell_type": "code",
      "execution_count": null,
      "id": "6d158131-c104-4cbe-9747-a8bfbda8a7c6",
      "metadata": {
        "execution": {
          "iopub.execute_input": "2022-11-16T22:27:01.459388Z",
          "iopub.status.busy": "2022-11-16T22:27:01.459154Z",
          "iopub.status.idle": "2022-11-16T22:27:10.769989Z",
          "shell.execute_reply": "2022-11-16T22:27:10.768980Z",
          "shell.execute_reply.started": "2022-11-16T22:27:01.459364Z"
        },
        "tags": [],
        "colab": {
          "referenced_widgets": [
            "4a79f99eef5e4418b5ad1a993894c920",
            ""
          ]
        },
        "id": "6d158131-c104-4cbe-9747-a8bfbda8a7c6",
        "outputId": "4084938e-04f6-4aa8-a217-c402e71c4b6f"
      },
      "outputs": [
        {
          "data": {
            "application/vnd.jupyter.widget-view+json": {
              "model_id": "4a79f99eef5e4418b5ad1a993894c920",
              "version_major": 2,
              "version_minor": 0
            },
            "text/plain": [
              "VBox()"
            ]
          },
          "metadata": {},
          "output_type": "display_data"
        },
        {
          "data": {
            "application/vnd.jupyter.widget-view+json": {
              "model_id": "",
              "version_major": 2,
              "version_minor": 0
            },
            "text/plain": [
              "FloatProgress(value=0.0, bar_style='info', description='Progress:', layout=Layout(height='25px', width='50%'),…"
            ]
          },
          "metadata": {},
          "output_type": "display_data"
        },
        {
          "name": "stdout",
          "output_type": "stream",
          "text": [
            "+-----+---+-----+-------+-----+-----+-----+---+---+---+\n",
            "|carat|cut|color|clarity|depth|table|price|  x|  y|  z|\n",
            "+-----+---+-----+-------+-----+-----+-----+---+---+---+\n",
            "|    0|  0|    0|      0|    0|    0|    0|  0|  0|  0|\n",
            "+-----+---+-----+-------+-----+-----+-----+---+---+---+"
          ]
        }
      ],
      "source": [
        "# Verificando se existem valores ausentes\n",
        "df.select([count(when(isnan(c) | col(c).isNull(), c)).alias(c) for c in df.columns]).show()"
      ]
    },
    {
      "cell_type": "markdown",
      "id": "f2923347-fd4a-43ac-b71d-631b441beb51",
      "metadata": {
        "id": "f2923347-fd4a-43ac-b71d-631b441beb51"
      },
      "source": [
        "#### Histograma dos preços"
      ]
    },
    {
      "cell_type": "code",
      "execution_count": null,
      "id": "dc342a03-faa8-4dd2-a4e7-aecd7e6501b8",
      "metadata": {
        "execution": {
          "iopub.execute_input": "2022-11-16T23:17:00.994087Z",
          "iopub.status.busy": "2022-11-16T23:17:00.993709Z",
          "iopub.status.idle": "2022-11-16T23:17:01.770584Z",
          "shell.execute_reply": "2022-11-16T23:17:01.769745Z",
          "shell.execute_reply.started": "2022-11-16T23:17:00.994047Z"
        },
        "tags": [],
        "id": "dc342a03-faa8-4dd2-a4e7-aecd7e6501b8",
        "outputId": "4def46a4-a7dd-4b2a-ede3-5d2fd7840ac1"
      },
      "outputs": [
        {
          "data": {
            "application/vnd.jupyter.widget-view+json": {
              "model_id": "189f15e48b0c46df886b9b00a82c7c73",
              "version_major": 2,
              "version_minor": 0
            },
            "text/plain": [
              "VBox()"
            ]
          },
          "metadata": {},
          "output_type": "display_data"
        },
        {
          "data": {
            "application/vnd.jupyter.widget-view+json": {
              "model_id": "",
              "version_major": 2,
              "version_minor": 0
            },
            "text/plain": [
              "FloatProgress(value=0.0, bar_style='info', description='Progress:', layout=Layout(height='25px', width='50%'),…"
            ]
          },
          "metadata": {},
          "output_type": "display_data"
        },
        {
          "name": "stdout",
          "output_type": "stream",
          "text": [
            "Text(0.5, 0, 'Faixa de precos')"
          ]
        }
      ],
      "source": [
        "plt.clf()\n",
        "df.select('price').toPandas().hist(column='price', bins=20, color='#86bf91', legend=None, figsize=(8,6), grid=False, zorder=2, rwidth=0.9)\n",
        "plt.title('Histograma de precos dos diamantes')\n",
        "plt.xlabel('Faixa de precos')"
      ]
    },
    {
      "cell_type": "code",
      "execution_count": null,
      "id": "28534c2e-bbd4-47e1-920e-12039deef449",
      "metadata": {
        "execution": {
          "iopub.execute_input": "2022-11-16T23:17:03.317498Z",
          "iopub.status.busy": "2022-11-16T23:17:03.317239Z",
          "iopub.status.idle": "2022-11-16T23:17:03.551171Z",
          "shell.execute_reply": "2022-11-16T23:17:03.550419Z",
          "shell.execute_reply.started": "2022-11-16T23:17:03.317469Z"
        },
        "tags": [],
        "id": "28534c2e-bbd4-47e1-920e-12039deef449",
        "outputId": "a2db7281-40e4-4bdf-f4e2-50b7ccacaf19"
      },
      "outputs": [
        {
          "data": {
            "application/vnd.jupyter.widget-view+json": {
              "model_id": "",
              "version_major": 2,
              "version_minor": 0
            },
            "text/plain": [
              "FloatProgress(value=0.0, bar_style='info', description='Progress:', layout=Layout(height='25px', width='50%'),…"
            ]
          },
          "metadata": {},
          "output_type": "display_data"
        },
        {
          "data": {
            "image/png": "[encoded data removed]",
            "text/plain": [
              "<IPython.core.display.Image object>"
            ]
          },
          "metadata": {},
          "output_type": "display_data"
        }
      ],
      "source": [
        "%matplot plt"
      ]
    },
    {
      "cell_type": "markdown",
      "id": "3f0f64f2-521a-435f-8a3e-1f1382ea3581",
      "metadata": {
        "execution": {
          "iopub.execute_input": "2022-11-16T23:01:49.883696Z",
          "iopub.status.busy": "2022-11-16T23:01:49.883471Z",
          "iopub.status.idle": "2022-11-16T23:01:49.937413Z",
          "shell.execute_reply": "2022-11-16T23:01:49.936717Z",
          "shell.execute_reply.started": "2022-11-16T23:01:49.883672Z"
        },
        "id": "3f0f64f2-521a-435f-8a3e-1f1382ea3581"
      },
      "source": [
        "#### Análise de preços em função da classe de Cor"
      ]
    },
    {
      "cell_type": "code",
      "execution_count": null,
      "id": "620972bb-53dc-46e0-ad9e-5f53661f8b80",
      "metadata": {
        "execution": {
          "iopub.execute_input": "2022-11-16T21:28:25.104005Z",
          "iopub.status.busy": "2022-11-16T21:28:25.103750Z",
          "iopub.status.idle": "2022-11-16T21:28:34.407970Z",
          "shell.execute_reply": "2022-11-16T21:28:34.407278Z",
          "shell.execute_reply.started": "2022-11-16T21:28:25.103980Z"
        },
        "tags": [],
        "id": "620972bb-53dc-46e0-ad9e-5f53661f8b80",
        "outputId": "bd20b0a2-8b9b-4c5d-b8be-0f0e2d8c9e66"
      },
      "outputs": [
        {
          "data": {
            "application/vnd.jupyter.widget-view+json": {
              "model_id": "21755e1197bc4aa690d8ddf9b67e7938",
              "version_major": 2,
              "version_minor": 0
            },
            "text/plain": [
              "VBox()"
            ]
          },
          "metadata": {},
          "output_type": "display_data"
        },
        {
          "data": {
            "application/vnd.jupyter.widget-view+json": {
              "model_id": "",
              "version_major": 2,
              "version_minor": 0
            },
            "text/plain": [
              "FloatProgress(value=0.0, bar_style='info', description='Progress:', layout=Layout(height='25px', width='50%'),…"
            ]
          },
          "metadata": {},
          "output_type": "display_data"
        },
        {
          "name": "stdout",
          "output_type": "stream",
          "text": [
            "+-----+------------------+\n",
            "|color|        avg(price)|\n",
            "+-----+------------------+\n",
            "|    D|3168.1064363743726|\n",
            "|    G|3996.8765508684864|\n",
            "|    J|  5323.81801994302|\n",
            "|    H| 4480.942154736081|\n",
            "|    F| 3725.080205493814|\n",
            "|    I|5089.9739900387385|\n",
            "|    E|3076.7524752475247|\n",
            "+-----+------------------+"
          ]
        }
      ],
      "source": [
        "# Média de preços dos diamantes por classe de Cor\n",
        "mean_price_by_color = df.select('color','price').groupBy('color').agg(avg('price'))\n",
        "mean_price_by_color.show()"
      ]
    },
    {
      "cell_type": "code",
      "execution_count": null,
      "id": "9adabd30-edb8-4886-8985-ae5e1477d761",
      "metadata": {
        "execution": {
          "iopub.execute_input": "2022-11-16T21:32:27.573031Z",
          "iopub.status.busy": "2022-11-16T21:32:27.572793Z",
          "iopub.status.idle": "2022-11-16T21:32:27.855083Z",
          "shell.execute_reply": "2022-11-16T21:32:27.854383Z",
          "shell.execute_reply.started": "2022-11-16T21:32:27.573004Z"
        },
        "tags": [],
        "id": "9adabd30-edb8-4886-8985-ae5e1477d761",
        "outputId": "4aea4a48-b190-4928-b0d9-fca391760663"
      },
      "outputs": [
        {
          "data": {
            "application/vnd.jupyter.widget-view+json": {
              "model_id": "7e3b1ac21f954834a343dc26d917be04",
              "version_major": 2,
              "version_minor": 0
            },
            "text/plain": [
              "VBox()"
            ]
          },
          "metadata": {},
          "output_type": "display_data"
        },
        {
          "data": {
            "application/vnd.jupyter.widget-view+json": {
              "model_id": "",
              "version_major": 2,
              "version_minor": 0
            },
            "text/plain": [
              "FloatProgress(value=0.0, bar_style='info', description='Progress:', layout=Layout(height='25px', width='50%'),…"
            ]
          },
          "metadata": {},
          "output_type": "display_data"
        },
        {
          "name": "stdout",
          "output_type": "stream",
          "text": [
            "Text(0, 0.5, 'Preco medio')"
          ]
        }
      ],
      "source": [
        "plt.clf()\n",
        "mean_price_by_color.toPandas().plot(kind='barh', x='color',y='avg(price)', color='#bc9000', legend=None, figsize=(6,6))\n",
        "plt.xticks(rotation=0)\n",
        "plt.title('Media de precos dos diamantes por classe de Cor')\n",
        "plt.xlabel('Cor')\n",
        "plt.ylabel('Preco medio')"
      ]
    },
    {
      "cell_type": "code",
      "execution_count": null,
      "id": "8530f93f-5626-41ff-a0d9-cad5089c5c02",
      "metadata": {
        "execution": {
          "iopub.execute_input": "2022-11-16T21:32:29.783390Z",
          "iopub.status.busy": "2022-11-16T21:32:29.783118Z",
          "iopub.status.idle": "2022-11-16T21:32:30.014185Z",
          "shell.execute_reply": "2022-11-16T21:32:30.013426Z",
          "shell.execute_reply.started": "2022-11-16T21:32:29.783352Z"
        },
        "tags": [],
        "id": "8530f93f-5626-41ff-a0d9-cad5089c5c02",
        "outputId": "8be66f27-5ded-4ed1-e9ed-72f63dc8f9ee"
      },
      "outputs": [
        {
          "data": {
            "application/vnd.jupyter.widget-view+json": {
              "model_id": "",
              "version_major": 2,
              "version_minor": 0
            },
            "text/plain": [
              "FloatProgress(value=0.0, bar_style='info', description='Progress:', layout=Layout(height='25px', width='50%'),…"
            ]
          },
          "metadata": {},
          "output_type": "display_data"
        },
        {
          "data": {
            "image/png": "[encoded data removed]",
            "text/plain": [
              "<IPython.core.display.Image object>"
            ]
          },
          "metadata": {},
          "output_type": "display_data"
        }
      ],
      "source": [
        "%matplot plt"
      ]
    },
    {
      "cell_type": "markdown",
      "id": "b89242f8-b544-40c9-925b-148b90998482",
      "metadata": {
        "execution": {
          "iopub.execute_input": "2022-11-16T23:02:44.334705Z",
          "iopub.status.busy": "2022-11-16T23:02:44.334479Z",
          "iopub.status.idle": "2022-11-16T23:02:44.398085Z",
          "shell.execute_reply": "2022-11-16T23:02:44.397478Z",
          "shell.execute_reply.started": "2022-11-16T23:02:44.334681Z"
        },
        "id": "b89242f8-b544-40c9-925b-148b90998482"
      },
      "source": [
        "#### Análise de preços em função da classe de Corte"
      ]
    },
    {
      "cell_type": "code",
      "execution_count": null,
      "id": "c266d537-d3f2-496e-a43e-af99670532c4",
      "metadata": {
        "execution": {
          "iopub.execute_input": "2022-11-17T00:50:05.312044Z",
          "iopub.status.busy": "2022-11-17T00:50:05.311788Z",
          "iopub.status.idle": "2022-11-17T00:50:16.614910Z",
          "shell.execute_reply": "2022-11-17T00:50:16.614071Z",
          "shell.execute_reply.started": "2022-11-17T00:50:05.312019Z"
        },
        "tags": [],
        "id": "c266d537-d3f2-496e-a43e-af99670532c4",
        "outputId": "942e57bc-5317-474c-eeac-a44c34766d19"
      },
      "outputs": [
        {
          "data": {
            "application/vnd.jupyter.widget-view+json": {
              "model_id": "82f47653a03e4d4e9e88896ff3df1a89",
              "version_major": 2,
              "version_minor": 0
            },
            "text/plain": [
              "VBox()"
            ]
          },
          "metadata": {},
          "output_type": "display_data"
        },
        {
          "data": {
            "application/vnd.jupyter.widget-view+json": {
              "model_id": "",
              "version_major": 2,
              "version_minor": 0
            },
            "text/plain": [
              "FloatProgress(value=0.0, bar_style='info', description='Progress:', layout=Layout(height='25px', width='50%'),…"
            ]
          },
          "metadata": {},
          "output_type": "display_data"
        },
        {
          "name": "stdout",
          "output_type": "stream",
          "text": [
            "+---------+------------------+\n",
            "|      cut|        avg(price)|\n",
            "+---------+------------------+\n",
            "|     Fair|  4357.50093225606|\n",
            "|  Premium| 4579.684542815675|\n",
            "|     Good|  3926.40350877193|\n",
            "|    Ideal|3456.9412010395395|\n",
            "|Very Good|3981.6641006539194|\n",
            "+---------+------------------+"
          ]
        }
      ],
      "source": [
        "# Média de preços dos diamantes por classe de Corte\n",
        "mean_price_by_cut = df.select('cut','price').groupBy('cut').agg(avg('price'))\n",
        "mean_price_by_cut.show()"
      ]
    },
    {
      "cell_type": "code",
      "execution_count": null,
      "id": "651bdf36-9145-4b62-bf12-cde911fa27b8",
      "metadata": {
        "execution": {
          "iopub.execute_input": "2022-11-17T00:51:23.206407Z",
          "iopub.status.busy": "2022-11-17T00:51:23.206178Z",
          "iopub.status.idle": "2022-11-17T00:51:23.774304Z",
          "shell.execute_reply": "2022-11-17T00:51:23.601829Z",
          "shell.execute_reply.started": "2022-11-17T00:51:23.206383Z"
        },
        "tags": [],
        "id": "651bdf36-9145-4b62-bf12-cde911fa27b8",
        "outputId": "c8a2642e-0506-4caa-e225-1b412bc8a277"
      },
      "outputs": [
        {
          "data": {
            "application/vnd.jupyter.widget-view+json": {
              "model_id": "8acbbafa0abf44c794ee02a3a36696e4",
              "version_major": 2,
              "version_minor": 0
            },
            "text/plain": [
              "VBox()"
            ]
          },
          "metadata": {},
          "output_type": "display_data"
        },
        {
          "data": {
            "application/vnd.jupyter.widget-view+json": {
              "model_id": "",
              "version_major": 2,
              "version_minor": 0
            },
            "text/plain": [
              "FloatProgress(value=0.0, bar_style='info', description='Progress:', layout=Layout(height='25px', width='50%'),…"
            ]
          },
          "metadata": {},
          "output_type": "display_data"
        },
        {
          "name": "stdout",
          "output_type": "stream",
          "text": [
            "Text(0, 0.5, '')"
          ]
        }
      ],
      "source": [
        "plt.clf()\n",
        "mean_price_by_cut.toPandas().plot(kind='barh', x='cut',y='avg(price)', color='#ac7100', legend=None, figsize=(8,6))\n",
        "plt.xticks(rotation=0)\n",
        "plt.title('Media de precos dos diamantes por classe de Corte')\n",
        "plt.xlabel('Preco medio')\n",
        "plt.ylabel('')"
      ]
    },
    {
      "cell_type": "code",
      "execution_count": null,
      "id": "3e3515a9-a57b-453a-b257-41d40cb77368",
      "metadata": {
        "execution": {
          "iopub.execute_input": "2022-11-17T00:51:25.809324Z",
          "iopub.status.busy": "2022-11-17T00:51:25.809076Z",
          "iopub.status.idle": "2022-11-17T00:51:26.039143Z",
          "shell.execute_reply": "2022-11-17T00:51:26.038343Z",
          "shell.execute_reply.started": "2022-11-17T00:51:25.809298Z"
        },
        "tags": [],
        "id": "3e3515a9-a57b-453a-b257-41d40cb77368",
        "outputId": "77394950-eb21-4043-e3f9-c615c5b1aa59"
      },
      "outputs": [
        {
          "data": {
            "application/vnd.jupyter.widget-view+json": {
              "model_id": "",
              "version_major": 2,
              "version_minor": 0
            },
            "text/plain": [
              "FloatProgress(value=0.0, bar_style='info', description='Progress:', layout=Layout(height='25px', width='50%'),…"
            ]
          },
          "metadata": {},
          "output_type": "display_data"
        },
        {
          "data": {
            "image/png": "[encoded data removed]",
            "text/plain": [
              "<IPython.core.display.Image object>"
            ]
          },
          "metadata": {},
          "output_type": "display_data"
        }
      ],
      "source": [
        "%matplot plt"
      ]
    },
    {
      "cell_type": "code",
      "execution_count": null,
      "id": "107090dc-0f05-4a0d-ab42-886063d51028",
      "metadata": {
        "execution": {
          "iopub.execute_input": "2022-11-16T22:07:19.098264Z",
          "iopub.status.busy": "2022-11-16T22:07:19.098027Z",
          "iopub.status.idle": "2022-11-16T22:07:28.398520Z",
          "shell.execute_reply": "2022-11-16T22:07:28.397823Z",
          "shell.execute_reply.started": "2022-11-16T22:07:19.098241Z"
        },
        "tags": [],
        "id": "107090dc-0f05-4a0d-ab42-886063d51028",
        "outputId": "91df945f-a5ff-4e1d-d0cb-fe2e031ad832"
      },
      "outputs": [
        {
          "data": {
            "application/vnd.jupyter.widget-view+json": {
              "model_id": "acc1ee5602d84e61a7ff6ec64b3c4a2f",
              "version_major": 2,
              "version_minor": 0
            },
            "text/plain": [
              "VBox()"
            ]
          },
          "metadata": {},
          "output_type": "display_data"
        },
        {
          "data": {
            "application/vnd.jupyter.widget-view+json": {
              "model_id": "",
              "version_major": 2,
              "version_minor": 0
            },
            "text/plain": [
              "FloatProgress(value=0.0, bar_style='info', description='Progress:', layout=Layout(height='25px', width='50%'),…"
            ]
          },
          "metadata": {},
          "output_type": "display_data"
        },
        {
          "name": "stdout",
          "output_type": "stream",
          "text": [
            "Text(0, 0.5, 'Qtd. Amostras')"
          ]
        }
      ],
      "source": [
        "# Qtd. de amostras por tipo de corte\n",
        "plt.clf()\n",
        "qtd_by_cut = df.groupBy('cut').count().toPandas()\n",
        "qtd_by_cut.plot(kind='bar', x='cut',y='count', color='#bc5000', legend=None, figsize=(8,6))\n",
        "plt.xticks(rotation=0)\n",
        "plt.title('Qtd. de amostras por tipo de corte')\n",
        "plt.xlabel('Tipo de Corte')\n",
        "plt.ylabel('Qtd. Amostras')"
      ]
    },
    {
      "cell_type": "code",
      "execution_count": null,
      "id": "14488f7a-9662-4450-9fb7-07b03875bd06",
      "metadata": {
        "execution": {
          "iopub.execute_input": "2022-11-16T22:07:28.399853Z",
          "iopub.status.busy": "2022-11-16T22:07:28.399668Z",
          "iopub.status.idle": "2022-11-16T22:07:28.634052Z",
          "shell.execute_reply": "2022-11-16T22:07:28.633284Z",
          "shell.execute_reply.started": "2022-11-16T22:07:28.399825Z"
        },
        "tags": [],
        "id": "14488f7a-9662-4450-9fb7-07b03875bd06",
        "outputId": "59d003aa-7027-4eab-9d28-863d99343ff2"
      },
      "outputs": [
        {
          "data": {
            "application/vnd.jupyter.widget-view+json": {
              "model_id": "",
              "version_major": 2,
              "version_minor": 0
            },
            "text/plain": [
              "FloatProgress(value=0.0, bar_style='info', description='Progress:', layout=Layout(height='25px', width='50%'),…"
            ]
          },
          "metadata": {},
          "output_type": "display_data"
        },
        {
          "data": {
            "image/png": "[encoded data removed]",
            "text/plain": [
              "<IPython.core.display.Image object>"
            ]
          },
          "metadata": {},
          "output_type": "display_data"
        }
      ],
      "source": [
        "%matplot plt"
      ]
    },
    {
      "cell_type": "markdown",
      "id": "c25c8daa-4f30-4aa4-8855-98144681c0b0",
      "metadata": {
        "id": "c25c8daa-4f30-4aa4-8855-98144681c0b0"
      },
      "source": [
        "Nota-se que há maior quantidade de amostras com o corte do tipo \"Ideal\".\n",
        "A média de preços para esse tipo corte coincidentemente é a menor dentre as categorias de corte.\n",
        "\n",
        "Vamos analisar a distribuição de preços por tipo de corte."
      ]
    },
    {
      "cell_type": "code",
      "execution_count": null,
      "id": "315e7227-af66-440d-bc97-283503fd336d",
      "metadata": {
        "execution": {
          "iopub.execute_input": "2022-11-16T22:41:09.378676Z",
          "iopub.status.busy": "2022-11-16T22:41:09.378445Z",
          "iopub.status.idle": "2022-11-16T22:41:10.648551Z",
          "shell.execute_reply": "2022-11-16T22:41:10.647662Z",
          "shell.execute_reply.started": "2022-11-16T22:41:09.378651Z"
        },
        "tags": [],
        "id": "315e7227-af66-440d-bc97-283503fd336d",
        "outputId": "5994628f-bce4-4e1a-8b28-03c9b566055f"
      },
      "outputs": [
        {
          "data": {
            "application/vnd.jupyter.widget-view+json": {
              "model_id": "ad4ff21407fa463aa4e8f13e70b1c441",
              "version_major": 2,
              "version_minor": 0
            },
            "text/plain": [
              "VBox()"
            ]
          },
          "metadata": {},
          "output_type": "display_data"
        },
        {
          "data": {
            "application/vnd.jupyter.widget-view+json": {
              "model_id": "",
              "version_major": 2,
              "version_minor": 0
            },
            "text/plain": [
              "FloatProgress(value=0.0, bar_style='info', description='Progress:', layout=Layout(height='25px', width='50%'),…"
            ]
          },
          "metadata": {},
          "output_type": "display_data"
        },
        {
          "name": "stdout",
          "output_type": "stream",
          "text": [
            "Text(0.5, 1.0, 'Distribuicao do preco em funcao do tipo de Corte')"
          ]
        }
      ],
      "source": [
        "# Cortes vs. Preço\n",
        "\n",
        "prices_by_cut = df.select('cut','price').groupBy('cut').agg(collect_list('price').alias('price')).toPandas().set_index('cut')\n",
        "medians = df.select('cut','price').groupBy('cut').agg(percentile_approx(\"price\", 0.5).alias(\"mediana\")).toPandas().set_index('cut')\n",
        "labels = prices_by_cut.index\n",
        "plt.clf()\n",
        "fig, ax = plt.subplots()\n",
        "ax.violinplot(prices_by_cut.price)\n",
        "ax.scatter(np.arange(1, len(medians) + 1), medians.mediana, marker='o', color='red', s=30, zorder=3)\n",
        "ax.set_xticks(np.arange(1, len(labels)+1), labels=labels)\n",
        "plt.xlabel('Tipo de Corte')\n",
        "plt.ylabel('Preco')\n",
        "ax.set_title('Distribuicao do preco em funcao do tipo de Corte')"
      ]
    },
    {
      "cell_type": "code",
      "execution_count": null,
      "id": "31e3732c-4243-46db-a2fa-82acf6dd7c98",
      "metadata": {
        "execution": {
          "iopub.execute_input": "2022-11-16T22:41:12.246772Z",
          "iopub.status.busy": "2022-11-16T22:41:12.246543Z",
          "iopub.status.idle": "2022-11-16T22:41:12.481925Z",
          "shell.execute_reply": "2022-11-16T22:41:12.481156Z",
          "shell.execute_reply.started": "2022-11-16T22:41:12.246747Z"
        },
        "tags": [],
        "id": "31e3732c-4243-46db-a2fa-82acf6dd7c98",
        "outputId": "625b292a-31bb-4ae6-93fa-521f75024e91"
      },
      "outputs": [
        {
          "data": {
            "application/vnd.jupyter.widget-view+json": {
              "model_id": "",
              "version_major": 2,
              "version_minor": 0
            },
            "text/plain": [
              "FloatProgress(value=0.0, bar_style='info', description='Progress:', layout=Layout(height='25px', width='50%'),…"
            ]
          },
          "metadata": {},
          "output_type": "display_data"
        },
        {
          "data": {
            "image/png": "[encoded data removed]",
            "text/plain": [
              "<IPython.core.display.Image object>"
            ]
          },
          "metadata": {},
          "output_type": "display_data"
        }
      ],
      "source": [
        "%matplot plt"
      ]
    },
    {
      "cell_type": "markdown",
      "id": "c36e47c8-d84b-40b6-bde6-f6ada2ee8dbb",
      "metadata": {
        "id": "c36e47c8-d84b-40b6-bde6-f6ada2ee8dbb"
      },
      "source": [
        "Nota-se que a mediana dos preços dos diamantes por tipo de corte orbitam entre ~2600 a ~3500, sendo que para a categoria de corte \"Ideal\" a mediana de preços é < 2000"
      ]
    },
    {
      "cell_type": "markdown",
      "id": "5d961060-5569-470b-bbc7-a8d61df2820d",
      "metadata": {
        "id": "5d961060-5569-470b-bbc7-a8d61df2820d"
      },
      "source": [
        "#### Análise dos quilates em função da classe de Corte"
      ]
    },
    {
      "cell_type": "code",
      "execution_count": null,
      "id": "65853f00-6fbe-4000-bd74-25794fcdc2fe",
      "metadata": {
        "execution": {
          "iopub.execute_input": "2022-11-16T22:48:34.385284Z",
          "iopub.status.busy": "2022-11-16T22:48:34.385045Z",
          "iopub.status.idle": "2022-11-16T22:48:34.642303Z",
          "shell.execute_reply": "2022-11-16T22:48:34.641627Z",
          "shell.execute_reply.started": "2022-11-16T22:48:34.385258Z"
        },
        "id": "65853f00-6fbe-4000-bd74-25794fcdc2fe",
        "outputId": "909c2a5e-f2e6-45de-81ed-a2e88d35150a"
      },
      "outputs": [
        {
          "data": {
            "application/vnd.jupyter.widget-view+json": {
              "model_id": "2ddb6d88c82c4352bc4fd7a409d40b54",
              "version_major": 2,
              "version_minor": 0
            },
            "text/plain": [
              "VBox()"
            ]
          },
          "metadata": {},
          "output_type": "display_data"
        },
        {
          "data": {
            "application/vnd.jupyter.widget-view+json": {
              "model_id": "",
              "version_major": 2,
              "version_minor": 0
            },
            "text/plain": [
              "FloatProgress(value=0.0, bar_style='info', description='Progress:', layout=Layout(height='25px', width='50%'),…"
            ]
          },
          "metadata": {},
          "output_type": "display_data"
        }
      ],
      "source": [
        "# Cria uma VIEW temporária para o conjunto de dados\n",
        "df.createOrReplaceTempView('diamond_table')"
      ]
    },
    {
      "cell_type": "code",
      "execution_count": null,
      "id": "c3bc4c84-4dc9-483f-a9fe-d791a6bd54f5",
      "metadata": {
        "execution": {
          "iopub.execute_input": "2022-11-16T22:57:07.697346Z",
          "iopub.status.busy": "2022-11-16T22:57:07.697114Z",
          "iopub.status.idle": "2022-11-16T22:57:19.020856Z",
          "shell.execute_reply": "2022-11-16T22:57:19.020077Z",
          "shell.execute_reply.started": "2022-11-16T22:57:07.697321Z"
        },
        "tags": [],
        "id": "c3bc4c84-4dc9-483f-a9fe-d791a6bd54f5",
        "outputId": "19bc7d36-5c9e-49d7-eb73-b0b600bd4bd3"
      },
      "outputs": [
        {
          "data": {
            "application/vnd.jupyter.widget-view+json": {
              "model_id": "1bf2b46778ee425db25e0dc6aae0e887",
              "version_major": 2,
              "version_minor": 0
            },
            "text/plain": [
              "VBox()"
            ]
          },
          "metadata": {},
          "output_type": "display_data"
        },
        {
          "data": {
            "application/vnd.jupyter.widget-view+json": {
              "model_id": "",
              "version_major": 2,
              "version_minor": 0
            },
            "text/plain": [
              "FloatProgress(value=0.0, bar_style='info', description='Progress:', layout=Layout(height='25px', width='50%'),…"
            ]
          },
          "metadata": {},
          "output_type": "display_data"
        },
        {
          "name": "stdout",
          "output_type": "stream",
          "text": [
            "[Row(quilate_medio=1.0460783050825613, cut='Fair'), Row(quilate_medio=0.8914085614739637, cut='Premium'), Row(quilate_medio=0.8487107268690771, cut='Good'), Row(quilate_medio=0.806365364643677, cut='Very Good'), Row(quilate_medio=0.7027594195680559, cut='Ideal')]"
          ]
        }
      ],
      "source": [
        "# Quilate médio por tipo de Corte\n",
        "df_quilates = spark.sql('SELECT \\\n",
        "                            avg(carat) as quilate_medio \\\n",
        "                            ,cut \\\n",
        "                        FROM diamond_table \\\n",
        "                        GROUP BY cut\\\n",
        "                        ORDER BY quilate_medio DESC')\n",
        "df_quilates.collect()"
      ]
    },
    {
      "cell_type": "code",
      "execution_count": null,
      "id": "d2236100-b45f-47a6-b998-ea8d7669c9c6",
      "metadata": {
        "execution": {
          "iopub.execute_input": "2022-11-17T00:52:41.093356Z",
          "iopub.status.busy": "2022-11-17T00:52:41.093122Z",
          "iopub.status.idle": "2022-11-17T00:52:52.410006Z",
          "shell.execute_reply": "2022-11-17T00:52:52.409193Z",
          "shell.execute_reply.started": "2022-11-17T00:52:41.093331Z"
        },
        "tags": [],
        "id": "d2236100-b45f-47a6-b998-ea8d7669c9c6",
        "outputId": "dee1afbc-dc75-4dd3-83e3-52e67eb5e736"
      },
      "outputs": [
        {
          "data": {
            "application/vnd.jupyter.widget-view+json": {
              "model_id": "a645cf7915784a36b2bd9713b4404e79",
              "version_major": 2,
              "version_minor": 0
            },
            "text/plain": [
              "VBox()"
            ]
          },
          "metadata": {},
          "output_type": "display_data"
        },
        {
          "data": {
            "application/vnd.jupyter.widget-view+json": {
              "model_id": "",
              "version_major": 2,
              "version_minor": 0
            },
            "text/plain": [
              "FloatProgress(value=0.0, bar_style='info', description='Progress:', layout=Layout(height='25px', width='50%'),…"
            ]
          },
          "metadata": {},
          "output_type": "display_data"
        },
        {
          "name": "stdout",
          "output_type": "stream",
          "text": [
            "[Row(cut='Good', quilate_mediano=0.8199999928474426), Row(cut='Ideal', quilate_mediano=0.5400000214576721), Row(cut='Premium', quilate_mediano=0.8600000143051147)]"
          ]
        }
      ],
      "source": [
        "# Quilate mediano por tipo de Corte\n",
        "df_quilates = spark.sql('\\\n",
        "    WITH ordered_carats as (\\\n",
        "      SELECT\\\n",
        "          cut,\\\n",
        "          carat,\\\n",
        "          row_number() over (partition by cut order by carat) as row_id,\\\n",
        "          count(*) over (partition by cut) AS Cnt\\\n",
        "      FROM diamond_table\\\n",
        "    )\\\n",
        "    SELECT cut, carat as quilate_mediano\\\n",
        "    FROM ordered_carats\\\n",
        "    WHERE row_id = Cnt / 2 + 1')\n",
        "\n",
        "df_quilates.collect()"
      ]
    },
    {
      "cell_type": "code",
      "execution_count": null,
      "id": "da164ee2-d992-4283-9cf7-68f61ad30397",
      "metadata": {
        "execution": {
          "iopub.execute_input": "2022-11-17T00:13:58.847085Z",
          "iopub.status.busy": "2022-11-17T00:13:58.846855Z",
          "iopub.status.idle": "2022-11-17T00:14:00.118037Z",
          "shell.execute_reply": "2022-11-17T00:14:00.117310Z",
          "shell.execute_reply.started": "2022-11-17T00:13:58.847061Z"
        },
        "tags": [],
        "id": "da164ee2-d992-4283-9cf7-68f61ad30397",
        "outputId": "f2d65592-9b1f-46d7-b20c-84e5fa96f680"
      },
      "outputs": [
        {
          "data": {
            "application/vnd.jupyter.widget-view+json": {
              "model_id": "25c5cd6c52f84596bba981f51562dc70",
              "version_major": 2,
              "version_minor": 0
            },
            "text/plain": [
              "VBox()"
            ]
          },
          "metadata": {},
          "output_type": "display_data"
        },
        {
          "data": {
            "application/vnd.jupyter.widget-view+json": {
              "model_id": "",
              "version_major": 2,
              "version_minor": 0
            },
            "text/plain": [
              "FloatProgress(value=0.0, bar_style='info', description='Progress:', layout=Layout(height='25px', width='50%'),…"
            ]
          },
          "metadata": {},
          "output_type": "display_data"
        },
        {
          "name": "stdout",
          "output_type": "stream",
          "text": [
            "Text(0.5, 1.0, 'Distribuicao do quilate em funcao do tipo de Corte')"
          ]
        }
      ],
      "source": [
        "carat_by_cut = df.select('cut','carat').groupBy('cut').agg(collect_list('carat').alias('carat')).toPandas().set_index('cut')\n",
        "\n",
        "labels = carat_by_cut.index\n",
        "plt.clf()\n",
        "fig, ax = plt.subplots()\n",
        "ax.boxplot(carat_by_cut.carat, patch_artist=True, boxprops=dict(facecolor='#FEDE00', color='k'),)\n",
        "ax.set_xticks(np.arange(1, len(labels)+1), labels=labels)\n",
        "plt.xlabel('Tipo de Corte')\n",
        "plt.ylabel('Quilate')\n",
        "ax.set_title('Distribuicao do quilate em funcao do tipo de Corte')\n",
        "\n"
      ]
    },
    {
      "cell_type": "code",
      "execution_count": null,
      "id": "7f67dba9-f3b4-4173-89da-badfd04f15df",
      "metadata": {
        "execution": {
          "iopub.execute_input": "2022-11-17T00:15:17.506630Z",
          "iopub.status.busy": "2022-11-17T00:15:17.506365Z",
          "iopub.status.idle": "2022-11-17T00:15:17.740465Z",
          "shell.execute_reply": "2022-11-17T00:15:17.739715Z",
          "shell.execute_reply.started": "2022-11-17T00:15:17.506602Z"
        },
        "tags": [],
        "id": "7f67dba9-f3b4-4173-89da-badfd04f15df",
        "outputId": "3efbdc8c-a9a8-438b-b6c9-b746dac0e0a3"
      },
      "outputs": [
        {
          "data": {
            "application/vnd.jupyter.widget-view+json": {
              "model_id": "",
              "version_major": 2,
              "version_minor": 0
            },
            "text/plain": [
              "FloatProgress(value=0.0, bar_style='info', description='Progress:', layout=Layout(height='25px', width='50%'),…"
            ]
          },
          "metadata": {},
          "output_type": "display_data"
        },
        {
          "data": {
            "image/png": "[encoded data removed]",
            "text/plain": [
              "<IPython.core.display.Image object>"
            ]
          },
          "metadata": {},
          "output_type": "display_data"
        }
      ],
      "source": [
        "%matplot plt"
      ]
    },
    {
      "cell_type": "markdown",
      "id": "97eb9c37-f9d4-4007-88d4-9f812c8fc942",
      "metadata": {
        "id": "97eb9c37-f9d4-4007-88d4-9f812c8fc942"
      },
      "source": [
        " Todos os diamantes Good, Very Good e Ideal pesam menos de 1 quilate com a mediana <1. Existem poucos diamantes de corte Fair e Premium em que o peso é ligeiramente superior a 1 quilate, mas a média ainda é <= 1 quilate. O corte Premium tem a faixa mais alta entre o 1º e o 3º quartil. Os diamantes maiores geralmente têm corte Fair."
      ]
    },
    {
      "cell_type": "markdown",
      "id": "0036b0ec-1c66-4764-ade9-16383fe7a6a9",
      "metadata": {
        "id": "0036b0ec-1c66-4764-ade9-16383fe7a6a9"
      },
      "source": [
        "#### Quilate em função do preço e da classe de cor"
      ]
    },
    {
      "cell_type": "code",
      "execution_count": null,
      "id": "434984f8-ab6f-43fa-a5f7-05a46c77bea1",
      "metadata": {
        "execution": {
          "iopub.execute_input": "2022-11-17T00:33:48.301175Z",
          "iopub.status.busy": "2022-11-17T00:33:48.300935Z",
          "iopub.status.idle": "2022-11-17T00:33:57.611859Z",
          "shell.execute_reply": "2022-11-17T00:33:57.611110Z",
          "shell.execute_reply.started": "2022-11-17T00:33:48.301150Z"
        },
        "tags": [],
        "id": "434984f8-ab6f-43fa-a5f7-05a46c77bea1",
        "outputId": "9d7b91e1-3925-4746-ff92-08a7ad304475"
      },
      "outputs": [
        {
          "data": {
            "application/vnd.jupyter.widget-view+json": {
              "model_id": "68b446b9cabb420f8af85ecb530615f8",
              "version_major": 2,
              "version_minor": 0
            },
            "text/plain": [
              "VBox()"
            ]
          },
          "metadata": {},
          "output_type": "display_data"
        },
        {
          "data": {
            "application/vnd.jupyter.widget-view+json": {
              "model_id": "",
              "version_major": 2,
              "version_minor": 0
            },
            "text/plain": [
              "FloatProgress(value=0.0, bar_style='info', description='Progress:', layout=Layout(height='25px', width='50%'),…"
            ]
          },
          "metadata": {},
          "output_type": "display_data"
        },
        {
          "name": "stdout",
          "output_type": "stream",
          "text": [
            "Text(0.5, 1.0, 'Quilate em funcao do preco e da classe de Cor')"
          ]
        }
      ],
      "source": [
        "from matplotlib.lines import Line2D  # for legend handle\n",
        "\n",
        "carat_by_price = df.select('color','carat', 'price').toPandas()\n",
        "plt.clf()\n",
        "fig, ax = plt.subplots(figsize=(8, 6))\n",
        "colors = {'D':'tab:blue', 'E':'tab:orange', 'F':'tab:green', 'G':'tab:red', 'H':'tab:purple', 'I':'tab:grey', 'J':'tab:olive'}\n",
        "ax.scatter(carat_by_price['carat'], carat_by_price['price'], s=5, c=carat_by_price['color'].map(colors))\n",
        "handles = [Line2D([0], [0], marker='o', color='w', markerfacecolor=v, label=k, markersize=5) for k, v in colors.items()]\n",
        "ax.legend(title='color', handles=handles, bbox_to_anchor=(1.01, 1), loc='upper left')\n",
        "plt.xlabel('Quilate')\n",
        "plt.ylabel('Preco')\n",
        "ax.set_title('Quilate em funcao do preco e da classe de Cor')"
      ]
    },
    {
      "cell_type": "code",
      "execution_count": null,
      "id": "6b971c8d-9d9d-4186-8539-05b01ffe9123",
      "metadata": {
        "execution": {
          "iopub.execute_input": "2022-11-17T00:33:57.614615Z",
          "iopub.status.busy": "2022-11-17T00:33:57.614429Z",
          "iopub.status.idle": "2022-11-17T00:33:58.364727Z",
          "shell.execute_reply": "2022-11-17T00:33:58.363710Z",
          "shell.execute_reply.started": "2022-11-17T00:33:57.614590Z"
        },
        "tags": [],
        "id": "6b971c8d-9d9d-4186-8539-05b01ffe9123",
        "outputId": "f1b8eaf6-2bd4-41f1-a516-c2464a5a83bc"
      },
      "outputs": [
        {
          "data": {
            "application/vnd.jupyter.widget-view+json": {
              "model_id": "",
              "version_major": 2,
              "version_minor": 0
            },
            "text/plain": [
              "FloatProgress(value=0.0, bar_style='info', description='Progress:', layout=Layout(height='25px', width='50%'),…"
            ]
          },
          "metadata": {},
          "output_type": "display_data"
        },
        {
          "data": {
            "image/png": "[encoded data removed]",
            "text/plain": [
              "<IPython.core.display.Image object>"
            ]
          },
          "metadata": {},
          "output_type": "display_data"
        }
      ],
      "source": [
        "%matplot plt"
      ]
    },
    {
      "cell_type": "markdown",
      "id": "c951066f-fed3-4174-ac7e-01f6acd61be6",
      "metadata": {
        "id": "c951066f-fed3-4174-ac7e-01f6acd61be6"
      },
      "source": [
        "O gráfico de dispersão mostra uma forte correlação positiva entre o quilate e o preço. O diamante de baixo quilate denotado no eixo x é mais observado. É claro que os diamantes de quilates mais baixos têm preços mais baixos. À medida que o tamanho do quilate aumenta, vemos o aumento do preço do diamante.\n",
        "A terceira dimensão mostra a cor do diamante. G é a cor mais popular, seguida por E, F, H, D, I e J. Existem algumas exceções para alto quilate e alto preço explicadas pelo fato de que alguns diamantes podem ser cortados para retenção de peso e não para beleza. Quando mais diamantes brutos são cortados, podemos assumir que a perda de quilates é compensada pelo preço mais alto."
      ]
    },
  {
   "cell_type": "markdown",
   "id": "eb53d190-3dd2-4369-993c-28a84d99a982",
   "metadata": {},
   "source": [
    "### Exemplos simplificados de Regressão"
   ]
  },
  {
   "cell_type": "code",
   "execution_count": 36,
   "id": "d9d9a464-964a-4a02-b942-75895690f2ea",
   "metadata": {
    "execution": {
     "iopub.execute_input": "2022-11-21T18:11:20.861575Z",
     "iopub.status.busy": "2022-11-21T18:11:20.861258Z",
     "iopub.status.idle": "2022-11-21T18:11:26.200937Z",
     "shell.execute_reply": "2022-11-21T18:11:26.200170Z",
     "shell.execute_reply.started": "2022-11-21T18:11:20.861534Z"
    },
    "tags": []
   },
   "outputs": [
    {
     "data": {
      "application/vnd.jupyter.widget-view+json": {
       "model_id": "bbdcba8671b34e8d9b664495fe5765a1",
       "version_major": 2,
       "version_minor": 0
      },
      "text/plain": [
       "VBox()"
      ]
     },
     "metadata": {},
     "output_type": "display_data"
    },
    {
     "data": {
      "application/vnd.jupyter.widget-view+json": {
       "model_id": "",
       "version_major": 2,
       "version_minor": 0
      },
      "text/plain": [
       "FloatProgress(value=0.0, bar_style='info', description='Progress:', layout=Layout(height='25px', width='50%'),…"
      ]
     },
     "metadata": {},
     "output_type": "display_data"
    },
    {
     "name": "stdout",
     "output_type": "stream",
     "text": [
      "Correlacao de PRICE com carat 0.9215920632569364\n",
      "Correlacao de PRICE com depth -0.010728925474279557\n",
      "Correlacao de PRICE com table 0.12724530490915534\n",
      "Correlacao de PRICE com price 1.0\n",
      "Correlacao de PRICE com x 0.8872313734512551\n",
      "Correlacao de PRICE com y 0.8678642446687833\n",
      "Correlacao de PRICE com z 0.8682064043973853"
     ]
    }
   ],
   "source": [
    "import six\n",
    "\n",
    "for i in df.columns:\n",
    "    if not( isinstance(df.select(i).take(1)[0][0], six.string_types)):\n",
    "        print( \"Correlacao de PRICE com\", i, df.stat.corr('price',i))"
   ]
  },
  {
   "cell_type": "code",
   "execution_count": 42,
   "id": "e5228c84-40fd-43e3-8e36-3f7898553e8c",
   "metadata": {
    "execution": {
     "iopub.execute_input": "2022-11-21T18:20:38.988654Z",
     "iopub.status.busy": "2022-11-21T18:20:38.988394Z",
     "iopub.status.idle": "2022-11-21T18:20:48.305648Z",
     "shell.execute_reply": "2022-11-21T18:20:48.304532Z",
     "shell.execute_reply.started": "2022-11-21T18:20:38.988616Z"
    },
    "tags": []
   },
   "outputs": [
    {
     "data": {
      "application/vnd.jupyter.widget-view+json": {
       "model_id": "9571dc06f4ee4b4a8abfa88f3e4367bb",
       "version_major": 2,
       "version_minor": 0
      },
      "text/plain": [
       "VBox()"
      ]
     },
     "metadata": {},
     "output_type": "display_data"
    },
    {
     "data": {
      "application/vnd.jupyter.widget-view+json": {
       "model_id": "",
       "version_major": 2,
       "version_minor": 0
      },
      "text/plain": [
       "FloatProgress(value=0.0, bar_style='info', description='Progress:', layout=Layout(height='25px', width='50%'),…"
      ]
     },
     "metadata": {},
     "output_type": "display_data"
    },
    {
     "name": "stdout",
     "output_type": "stream",
     "text": [
      "+--------------------+-----+\n",
      "|            features|price|\n",
      "+--------------------+-----+\n",
      "|[0.23000000417232...|326.0|\n",
      "|[0.20999999344348...|326.0|\n",
      "|[0.23000000417232...|327.0|\n",
      "+--------------------+-----+\n",
      "only showing top 3 rows"
     ]
    }
   ],
   "source": [
    "from pyspark.ml.feature import VectorAssembler\n",
    "\n",
    "vectorAssembler = VectorAssembler(inputCols = ['carat', 'depth', 'table', 'x', 'y', 'z'], outputCol = 'features')\n",
    "vdiamonds_df = vectorAssembler.transform(df)\n",
    "vdiamonds_df = vdiamonds_df.select(['features', 'price'])\n",
    "vdiamonds_df.show(3)"
   ]
  },
  {
   "cell_type": "code",
   "execution_count": 43,
   "id": "3f7904af-3177-47bb-82d3-c4a2f386da47",
   "metadata": {
    "execution": {
     "iopub.execute_input": "2022-11-21T18:20:48.307539Z",
     "iopub.status.busy": "2022-11-21T18:20:48.307284Z",
     "iopub.status.idle": "2022-11-21T18:20:48.455770Z",
     "shell.execute_reply": "2022-11-21T18:20:48.451140Z",
     "shell.execute_reply.started": "2022-11-21T18:20:48.307502Z"
    },
    "tags": []
   },
   "outputs": [
    {
     "data": {
      "application/vnd.jupyter.widget-view+json": {
       "model_id": "6ed66dda998748ffb0006c8ee55d00b8",
       "version_major": 2,
       "version_minor": 0
      },
      "text/plain": [
       "VBox()"
      ]
     },
     "metadata": {},
     "output_type": "display_data"
    },
    {
     "data": {
      "application/vnd.jupyter.widget-view+json": {
       "model_id": "",
       "version_major": 2,
       "version_minor": 0
      },
      "text/plain": [
       "FloatProgress(value=0.0, bar_style='info', description='Progress:', layout=Layout(height='25px', width='50%'),…"
      ]
     },
     "metadata": {},
     "output_type": "display_data"
    }
   ],
   "source": [
    "splits = vdiamonds_df.randomSplit([0.7, 0.3])\n",
    "train_df = splits[0]\n",
    "test_df = splits[1]"
   ]
  },
  {
   "cell_type": "markdown",
   "id": "8f0516c4-2704-4fcf-bbc6-68baf2de1c2c",
   "metadata": {},
   "source": [
    "#### Regressão Linear"
   ]
  },
  {
   "cell_type": "code",
   "execution_count": 45,
   "id": "c3679318-3821-47ca-a5e2-c93dad0df1e6",
   "metadata": {
    "execution": {
     "iopub.execute_input": "2022-11-21T18:21:10.673488Z",
     "iopub.status.busy": "2022-11-21T18:21:10.673264Z",
     "iopub.status.idle": "2022-11-21T18:21:12.956198Z",
     "shell.execute_reply": "2022-11-21T18:21:12.954000Z",
     "shell.execute_reply.started": "2022-11-21T18:21:10.673465Z"
    },
    "tags": []
   },
   "outputs": [
    {
     "data": {
      "application/vnd.jupyter.widget-view+json": {
       "model_id": "15aa33dfe44442279136ee7aebde0d3d",
       "version_major": 2,
       "version_minor": 0
      },
      "text/plain": [
       "VBox()"
      ]
     },
     "metadata": {},
     "output_type": "display_data"
    },
    {
     "data": {
      "application/vnd.jupyter.widget-view+json": {
       "model_id": "",
       "version_major": 2,
       "version_minor": 0
      },
      "text/plain": [
       "FloatProgress(value=0.0, bar_style='info', description='Progress:', layout=Layout(height='25px', width='50%'),…"
      ]
     },
     "metadata": {},
     "output_type": "display_data"
    },
    {
     "name": "stdout",
     "output_type": "stream",
     "text": [
      "Coeficientes: [8522.196403162614,-237.85581799517604,-131.06330820452408,-67.88624515933954,-159.6093338583446,-254.04686348001417]\n",
      "Intercepto: 21544.18915111917"
     ]
    }
   ],
   "source": [
    "from pyspark.ml.regression import LinearRegression\n",
    "\n",
    "\n",
    "lr = LinearRegression(featuresCol = 'features', labelCol='price', maxIter=10, regParam=0.3, elasticNetParam=0.8)\n",
    "lr_model = lr.fit(train_df)\n",
    "print(\"Coeficientes: \" + str(lr_model.coefficients))\n",
    "print(\"Intercepto: \" + str(lr_model.intercept))"
   ]
  },
  {
   "cell_type": "code",
   "execution_count": 47,
   "id": "d5f90be5-4d79-4a19-9094-785ad000dba3",
   "metadata": {
    "execution": {
     "iopub.execute_input": "2022-11-21T18:22:21.811880Z",
     "iopub.status.busy": "2022-11-21T18:22:21.811650Z",
     "iopub.status.idle": "2022-11-21T18:22:21.875559Z",
     "shell.execute_reply": "2022-11-21T18:22:21.874656Z",
     "shell.execute_reply.started": "2022-11-21T18:22:21.811855Z"
    },
    "tags": []
   },
   "outputs": [
    {
     "data": {
      "application/vnd.jupyter.widget-view+json": {
       "model_id": "c0d11230329c48a49bab08c2a535b779",
       "version_major": 2,
       "version_minor": 0
      },
      "text/plain": [
       "VBox()"
      ]
     },
     "metadata": {},
     "output_type": "display_data"
    },
    {
     "data": {
      "application/vnd.jupyter.widget-view+json": {
       "model_id": "",
       "version_major": 2,
       "version_minor": 0
      },
      "text/plain": [
       "FloatProgress(value=0.0, bar_style='info', description='Progress:', layout=Layout(height='25px', width='50%'),…"
      ]
     },
     "metadata": {},
     "output_type": "display_data"
    },
    {
     "name": "stdout",
     "output_type": "stream",
     "text": [
      "RMSE: 1511.752895\n",
      "r2: 0.854274"
     ]
    }
   ],
   "source": [
    "trainingSummary = lr_model.summary\n",
    "print(\"RMSE: %f\" % trainingSummary.rootMeanSquaredError)\n",
    "print(\"r2: %f\" % trainingSummary.r2)"
   ]
  },
  {
   "cell_type": "code",
   "execution_count": 48,
   "id": "9d605c51-a1ee-4548-b1d7-5b4a81435c4b",
   "metadata": {
    "execution": {
     "iopub.execute_input": "2022-11-21T18:24:06.419198Z",
     "iopub.status.busy": "2022-11-21T18:24:06.418970Z",
     "iopub.status.idle": "2022-11-21T18:24:19.745550Z",
     "shell.execute_reply": "2022-11-21T18:24:19.744626Z",
     "shell.execute_reply.started": "2022-11-21T18:24:06.419175Z"
    },
    "tags": []
   },
   "outputs": [
    {
     "data": {
      "application/vnd.jupyter.widget-view+json": {
       "model_id": "c1970a9a32204f508b1ac19dd8497d4b",
       "version_major": 2,
       "version_minor": 0
      },
      "text/plain": [
       "VBox()"
      ]
     },
     "metadata": {},
     "output_type": "display_data"
    },
    {
     "data": {
      "application/vnd.jupyter.widget-view+json": {
       "model_id": "",
       "version_major": 2,
       "version_minor": 0
      },
      "text/plain": [
       "FloatProgress(value=0.0, bar_style='info', description='Progress:', layout=Layout(height='25px', width='50%'),…"
      ]
     },
     "metadata": {},
     "output_type": "display_data"
    },
    {
     "name": "stdout",
     "output_type": "stream",
     "text": [
      "+-------------------+-----+--------------------+\n",
      "|         prediction|price|            features|\n",
      "+-------------------+-----+--------------------+\n",
      "|  380.9054887190978|367.0|[0.20000000298023...|\n",
      "| -523.7146454144495|367.0|[0.20000000298023...|\n",
      "| -534.2363473805635|367.0|[0.20000000298023...|\n",
      "| -468.4554173880424|367.0|[0.20000000298023...|\n",
      "|-311.29006976779056|386.0|[0.20999999344348...|\n",
      "+-------------------+-----+--------------------+\n",
      "only showing top 5 rows\n",
      "\n",
      "R Squared (R2) nos dados de teste = 0.854857"
     ]
    }
   ],
   "source": [
    "lr_predictions = lr_model.transform(test_df)\n",
    "lr_predictions.select(\"prediction\",\"price\",\"features\").show(5)\n",
    "\n",
    "from pyspark.ml.evaluation import RegressionEvaluator\n",
    "\n",
    "lr_evaluator = RegressionEvaluator(predictionCol=\"prediction\", \\\n",
    "                 labelCol=\"price\",metricName=\"r2\")\n",
    "print(\"R Squared (R2) nos dados de teste = %g\" % lr_evaluator.evaluate(lr_predictions))"
   ]
  },
  {
   "cell_type": "code",
   "execution_count": 68,
   "id": "85c24d78-380f-434a-9a56-85d403ef410c",
   "metadata": {
    "execution": {
     "iopub.execute_input": "2022-11-21T18:49:43.175683Z",
     "iopub.status.busy": "2022-11-21T18:49:43.175445Z",
     "iopub.status.idle": "2022-11-21T18:49:56.492190Z",
     "shell.execute_reply": "2022-11-21T18:49:56.491341Z",
     "shell.execute_reply.started": "2022-11-21T18:49:43.175656Z"
    },
    "tags": []
   },
   "outputs": [
    {
     "data": {
      "application/vnd.jupyter.widget-view+json": {
       "model_id": "a79d1c0cfc9c46a8ae72f6a1cf923439",
       "version_major": 2,
       "version_minor": 0
      },
      "text/plain": [
       "VBox()"
      ]
     },
     "metadata": {},
     "output_type": "display_data"
    },
    {
     "data": {
      "application/vnd.jupyter.widget-view+json": {
       "model_id": "",
       "version_major": 2,
       "version_minor": 0
      },
      "text/plain": [
       "FloatProgress(value=0.0, bar_style='info', description='Progress:', layout=Layout(height='25px', width='50%'),…"
      ]
     },
     "metadata": {},
     "output_type": "display_data"
    },
    {
     "name": "stdout",
     "output_type": "stream",
     "text": [
      "<matplotlib.legend.Legend object at 0x7f8d15c9b050>"
     ]
    }
   ],
   "source": [
    "test_pd = test_df.toPandas()\n",
    "x_test = np.array([x[0] for x in test_pd['features']])\n",
    "y_test = test_pd['price']\n",
    "y_pred = lr_predictions.select('prediction').toPandas()\n",
    "plt.clf()\n",
    "plt.plot(x_test, y_test, 'o', markersize=2, label=\"data points\", color=\"skyblue\");\n",
    "plt.plot(x_test, y_pred, 'r--', linewidth=1, label=\"Reta de regressao\");\n",
    "plt.legend()"
   ]
  },
  {
   "cell_type": "code",
   "execution_count": 69,
   "id": "c0b5828d-ea97-42da-87ba-b68f392b5ec5",
   "metadata": {
    "execution": {
     "iopub.execute_input": "2022-11-21T18:49:56.494095Z",
     "iopub.status.busy": "2022-11-21T18:49:56.493844Z",
     "iopub.status.idle": "2022-11-21T18:49:56.727759Z",
     "shell.execute_reply": "2022-11-21T18:49:56.726938Z",
     "shell.execute_reply.started": "2022-11-21T18:49:56.494060Z"
    },
    "tags": []
   },
   "outputs": [
    {
     "data": {
      "application/vnd.jupyter.widget-view+json": {
       "model_id": "",
       "version_major": 2,
       "version_minor": 0
      },
      "text/plain": [
       "FloatProgress(value=0.0, bar_style='info', description='Progress:', layout=Layout(height='25px', width='50%'),…"
      ]
     },
     "metadata": {},
     "output_type": "display_data"
    },
    {
     "data": {
      "image/png": "[encoded data removed]",
      "text/plain": [
       "<IPython.core.display.Image object>"
      ]
     },
     "metadata": {},
     "output_type": "display_data"
    }
   ],
   "source": [
    "%matplot plt"
   ]
  },
  {
   "cell_type": "code",
   "execution_count": 71,
   "id": "c9befa21-cac4-433e-8804-7c0ad18b904d",
   "metadata": {
    "execution": {
     "iopub.execute_input": "2022-11-21T18:51:29.182528Z",
     "iopub.status.busy": "2022-11-21T18:51:29.182300Z",
     "iopub.status.idle": "2022-11-21T18:51:40.484251Z",
     "shell.execute_reply": "2022-11-21T18:51:40.483167Z",
     "shell.execute_reply.started": "2022-11-21T18:51:29.182504Z"
    },
    "tags": []
   },
   "outputs": [
    {
     "data": {
      "application/vnd.jupyter.widget-view+json": {
       "model_id": "8b8bb8ed47654c35bf33f95bf4dd628e",
       "version_major": 2,
       "version_minor": 0
      },
      "text/plain": [
       "VBox()"
      ]
     },
     "metadata": {},
     "output_type": "display_data"
    },
    {
     "data": {
      "application/vnd.jupyter.widget-view+json": {
       "model_id": "",
       "version_major": 2,
       "version_minor": 0
      },
      "text/plain": [
       "FloatProgress(value=0.0, bar_style='info', description='Progress:', layout=Layout(height='25px', width='50%'),…"
      ]
     },
     "metadata": {},
     "output_type": "display_data"
    },
    {
     "name": "stdout",
     "output_type": "stream",
     "text": [
      "Root Mean Squared Error (RMSE) nos dados de teste = 1542.68"
     ]
    }
   ],
   "source": [
    "test_result = lr_model.evaluate(test_df)\n",
    "print(\"Root Mean Squared Error (RMSE) nos dados de teste = %g\" % test_result.rootMeanSquaredError)"
   ]
  },
  {
   "cell_type": "markdown",
   "id": "177dd4e9-31f7-4b58-8be3-7c1bf418d559",
   "metadata": {},
   "source": [
    "#### Decision Tree"
   ]
  },
  {
   "cell_type": "code",
   "execution_count": 72,
   "id": "a060f231-629f-4e21-bfd5-fca05dc25c6a",
   "metadata": {
    "execution": {
     "iopub.execute_input": "2022-11-21T18:51:40.485844Z",
     "iopub.status.busy": "2022-11-21T18:51:40.485656Z",
     "iopub.status.idle": "2022-11-21T18:51:45.826249Z",
     "shell.execute_reply": "2022-11-21T18:51:45.825335Z",
     "shell.execute_reply.started": "2022-11-21T18:51:40.485821Z"
    },
    "tags": []
   },
   "outputs": [
    {
     "data": {
      "application/vnd.jupyter.widget-view+json": {
       "model_id": "a3838cfd30b548158754e87b9452cc27",
       "version_major": 2,
       "version_minor": 0
      },
      "text/plain": [
       "VBox()"
      ]
     },
     "metadata": {},
     "output_type": "display_data"
    },
    {
     "data": {
      "application/vnd.jupyter.widget-view+json": {
       "model_id": "",
       "version_major": 2,
       "version_minor": 0
      },
      "text/plain": [
       "FloatProgress(value=0.0, bar_style='info', description='Progress:', layout=Layout(height='25px', width='50%'),…"
      ]
     },
     "metadata": {},
     "output_type": "display_data"
    },
    {
     "name": "stdout",
     "output_type": "stream",
     "text": [
      "Root Mean Squared Error (RMSE) nos dados de teste = 1409.92"
     ]
    }
   ],
   "source": [
    "from pyspark.ml.regression import DecisionTreeRegressor\n",
    "\n",
    "\n",
    "dt = DecisionTreeRegressor(featuresCol ='features', labelCol = 'price')\n",
    "dt_model = dt.fit(train_df)\n",
    "dt_predictions = dt_model.transform(test_df)\n",
    "dt_evaluator = RegressionEvaluator(\n",
    "    labelCol=\"price\", predictionCol=\"prediction\", metricName=\"rmse\")\n",
    "rmse = dt_evaluator.evaluate(dt_predictions)\n",
    "print(\"Root Mean Squared Error (RMSE) nos dados de teste = %g\" % rmse)"
   ]
  },
  {
   "cell_type": "code",
   "execution_count": 73,
   "id": "37ab3fd6-5b02-475c-897e-8a324e022efe",
   "metadata": {
    "execution": {
     "iopub.execute_input": "2022-11-21T18:51:47.162065Z",
     "iopub.status.busy": "2022-11-21T18:51:47.161842Z",
     "iopub.status.idle": "2022-11-21T18:51:47.436209Z",
     "shell.execute_reply": "2022-11-21T18:51:47.435362Z",
     "shell.execute_reply.started": "2022-11-21T18:51:47.162040Z"
    }
   },
   "outputs": [
    {
     "data": {
      "application/vnd.jupyter.widget-view+json": {
       "model_id": "e7e4993e267a4979878c55f4ad243018",
       "version_major": 2,
       "version_minor": 0
      },
      "text/plain": [
       "VBox()"
      ]
     },
     "metadata": {},
     "output_type": "display_data"
    },
    {
     "data": {
      "application/vnd.jupyter.widget-view+json": {
       "model_id": "",
       "version_major": 2,
       "version_minor": 0
      },
      "text/plain": [
       "FloatProgress(value=0.0, bar_style='info', description='Progress:', layout=Layout(height='25px', width='50%'),…"
      ]
     },
     "metadata": {},
     "output_type": "display_data"
    },
    {
     "name": "stdout",
     "output_type": "stream",
     "text": [
      "SparseVector(6, {0: 0.7396, 1: 0.0017, 2: 0.0023, 3: 0.0006, 4: 0.2545, 5: 0.0013})"
     ]
    }
   ],
   "source": [
    "dt_model.featureImportances"
   ]
  },
  {
   "cell_type": "code",
   "execution_count": 78,
   "id": "db98d681-7209-4eb6-bcdd-708704d204da",
   "metadata": {
    "execution": {
     "iopub.execute_input": "2022-11-21T18:55:27.971560Z",
     "iopub.status.busy": "2022-11-21T18:55:27.971332Z",
     "iopub.status.idle": "2022-11-21T18:55:28.236503Z",
     "shell.execute_reply": "2022-11-21T18:55:28.235582Z",
     "shell.execute_reply.started": "2022-11-21T18:55:27.971535Z"
    },
    "tags": []
   },
   "outputs": [
    {
     "data": {
      "application/vnd.jupyter.widget-view+json": {
       "model_id": "5eff07239dbd4298bfa57711394cf65e",
       "version_major": 2,
       "version_minor": 0
      },
      "text/plain": [
       "VBox()"
      ]
     },
     "metadata": {},
     "output_type": "display_data"
    },
    {
     "data": {
      "application/vnd.jupyter.widget-view+json": {
       "model_id": "",
       "version_major": 2,
       "version_minor": 0
      },
      "text/plain": [
       "FloatProgress(value=0.0, bar_style='info', description='Progress:', layout=Layout(height='25px', width='50%'),…"
      ]
     },
     "metadata": {},
     "output_type": "display_data"
    },
    {
     "name": "stdout",
     "output_type": "stream",
     "text": [
      "[Row(carat=0.23000000417232513, cut='Ideal', color='E', clarity='SI2', depth=61.5, table=55.0, price=326.0, x=3.950000047683716, y=3.9800000190734863, z=2.430000066757202)]"
     ]
    }
   ],
   "source": [
    "df.take(1)"
   ]
  },
  {
   "cell_type": "markdown",
   "id": "dd8532b8-e512-49fc-848d-44b1a4541151",
   "metadata": {},
   "source": [
    "> Aparentemente, o quilate é a feature mais importante para predizer o preço dos diamantes do dataset."
   ]
  },
  {
   "cell_type": "markdown",
   "id": "d4400d7a-7548-43a3-92c2-c44ef79828ae",
   "metadata": {},
   "source": [
    "#### Gradient-Boosted Tree"
   ]
  },
  {
   "cell_type": "code",
   "execution_count": 79,
   "id": "ef567472-e566-48e4-a1e8-8cf2eb22663a",
   "metadata": {
    "execution": {
     "iopub.execute_input": "2022-11-21T18:57:22.256077Z",
     "iopub.status.busy": "2022-11-21T18:57:22.255854Z",
     "iopub.status.idle": "2022-11-21T18:57:43.654853Z",
     "shell.execute_reply": "2022-11-21T18:57:43.653951Z",
     "shell.execute_reply.started": "2022-11-21T18:57:22.256052Z"
    }
   },
   "outputs": [
    {
     "data": {
      "application/vnd.jupyter.widget-view+json": {
       "model_id": "ce6e4ffd3c364fdaa4665495de030f90",
       "version_major": 2,
       "version_minor": 0
      },
      "text/plain": [
       "VBox()"
      ]
     },
     "metadata": {},
     "output_type": "display_data"
    },
    {
     "data": {
      "application/vnd.jupyter.widget-view+json": {
       "model_id": "",
       "version_major": 2,
       "version_minor": 0
      },
      "text/plain": [
       "FloatProgress(value=0.0, bar_style='info', description='Progress:', layout=Layout(height='25px', width='50%'),…"
      ]
     },
     "metadata": {},
     "output_type": "display_data"
    },
    {
     "name": "stdout",
     "output_type": "stream",
     "text": [
      "+-----------------+-----+--------------------+\n",
      "|       prediction|price|            features|\n",
      "+-----------------+-----+--------------------+\n",
      "|612.2403281421074|367.0|[0.20000000298023...|\n",
      "|520.9881126305963|367.0|[0.20000000298023...|\n",
      "|520.9881126305963|367.0|[0.20000000298023...|\n",
      "|603.0959337479193|367.0|[0.20000000298023...|\n",
      "| 506.101376250618|386.0|[0.20999999344348...|\n",
      "+-----------------+-----+--------------------+\n",
      "only showing top 5 rows"
     ]
    }
   ],
   "source": [
    "from pyspark.ml.regression import GBTRegressor\n",
    "\n",
    "gbt = GBTRegressor(featuresCol = 'features', labelCol = 'price', maxIter=10)\n",
    "gbt_model = gbt.fit(train_df)\n",
    "gbt_predictions = gbt_model.transform(test_df)\n",
    "gbt_predictions.select('prediction', 'price', 'features').show(5)"
   ]
  },
  {
   "cell_type": "code",
   "execution_count": 80,
   "id": "acdabf32-86ff-4ef7-82d1-2672b455e7e4",
   "metadata": {
    "execution": {
     "iopub.execute_input": "2022-11-21T18:57:52.611177Z",
     "iopub.status.busy": "2022-11-21T18:57:52.610944Z",
     "iopub.status.idle": "2022-11-21T18:57:53.882639Z",
     "shell.execute_reply": "2022-11-21T18:57:53.881362Z",
     "shell.execute_reply.started": "2022-11-21T18:57:52.611152Z"
    }
   },
   "outputs": [
    {
     "data": {
      "application/vnd.jupyter.widget-view+json": {
       "model_id": "fb37d6d1c3b245e9b6ba139ec4e5f857",
       "version_major": 2,
       "version_minor": 0
      },
      "text/plain": [
       "VBox()"
      ]
     },
     "metadata": {},
     "output_type": "display_data"
    },
    {
     "data": {
      "application/vnd.jupyter.widget-view+json": {
       "model_id": "",
       "version_major": 2,
       "version_minor": 0
      },
      "text/plain": [
       "FloatProgress(value=0.0, bar_style='info', description='Progress:', layout=Layout(height='25px', width='50%'),…"
      ]
     },
     "metadata": {},
     "output_type": "display_data"
    },
    {
     "name": "stdout",
     "output_type": "stream",
     "text": [
      "Root Mean Squared Error (RMSE) nos dados de teste = 1377.94"
     ]
    }
   ],
   "source": [
    "gbt_evaluator = RegressionEvaluator(labelCol=\"price\", predictionCol=\"prediction\", metricName=\"rmse\")\n",
    "rmse = gbt_evaluator.evaluate(gbt_predictions)\n",
    "print(\"Root Mean Squared Error (RMSE) nos dados de teste = %g\" % rmse)"
   ]
  },
  {
   "cell_type": "markdown",
   "id": "2beddf64-7e4f-493e-8f29-6b140e5b30dd",
   "metadata": {
    "execution": {
     "iopub.execute_input": "2022-11-21T18:58:46.748247Z",
     "iopub.status.busy": "2022-11-21T18:58:46.748024Z",
     "iopub.status.idle": "2022-11-21T18:58:46.812520Z",
     "shell.execute_reply": "2022-11-21T18:58:46.811675Z",
     "shell.execute_reply.started": "2022-11-21T18:58:46.748223Z"
    },
    "tags": []
   },
   "source": [
    "> Gradient-boosted tree regression performou melhor no dataset em questão."
   ]
  },
  {
   "cell_type": "markdown",
   "metadata": {},
   "source": [
    "***\n",
    "## Cleanup"
   ]
  },
  {
   "cell_type": "markdown",
   "metadata": {},
   "source": [
    "Por último, utilizei os comandos `uninstall_package` da API PySpark para remover as bibliotecas `pandas` e `matplotlib` que foram inicialmente instaladas usando o comando `install_package` da referid API."
   ]
  },
  {
   "cell_type": "code",
   "execution_count": null,
   "metadata": {},
   "outputs": [],
   "source": [
    "sc.uninstall_package(\"pandas\")\n",
    "sc.uninstall_package(\"matplotlib\")"
   ]
  },
  {
   "cell_type": "code",
   "execution_count": null,
   "metadata": {},
   "outputs": [],
   "source": [
    "sc.list_packages()"
   ]
  }
 ],
 "metadata": {
  "kernelspec": {
   "display_name": "PySpark",
   "language": "python",
   "name": "pysparkkernel"
  },
  "language_info": {
   "codemirror_mode": {
    "name": "python",
    "version": 3
   },
   "file_extension": ".py",
   "mimetype": "text/x-python",
   "name": "pyspark",
   "pygments_lexer": "python3"
  }
 },
 "nbformat": 4,
 "nbformat_minor": 5
}
